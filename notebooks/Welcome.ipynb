{
 "cells": [
  {
   "cell_type": "markdown",
   "metadata": {},
   "source": [
    "# Welcome to OCaml Jupyter"
   ]
  },
  {
   "cell_type": "markdown",
   "metadata": {},
   "source": [
    "This is an interactive environment to execute OCaml code in your browser using a REPL (Read-eval-print loop).\n",
    "\n",
    "```\n",
    "               ,,__\n",
    "     ..  ..   / o._)   ___   ____                _ \n",
    "    /--'/--\\  \\-'||   / _ \\ / ___|__ _ _ __ ___ | |\n",
    "   /        \\_/ / |  | | | | |   / _` | '_ ` _ \\| |\n",
    " .'\\  \\__\\  __.'.'   | |_| | |__| (_| | | | | | | |\n",
    "   )\\ |  )\\ |         \\___/ \\____\\__,_|_| |_| |_|_|\n",
    "  // \\\\ // \\\\\n",
    " ||_  \\\\|_  \\\\_    -- two humps are better than one\n",
    " '--' '--'' '--'\n",
    " ```"
   ]
  },
  {
   "cell_type": "markdown",
   "metadata": {},
   "source": [
    "The following example shows the definition of a binary tree and the implementation of an inorder traversal."
   ]
  },
  {
   "cell_type": "code",
   "execution_count": 1,
   "metadata": {},
   "outputs": [
    {
     "data": {
      "text/plain": [
       "type tree = Leaf | Node of tree * int * tree\n"
      ]
     },
     "execution_count": 1,
     "metadata": {},
     "output_type": "execute_result"
    }
   ],
   "source": [
    "(* Binary tree containing integer values *)\n",
    "type tree = Leaf | Node of tree * int * tree"
   ]
  },
  {
   "cell_type": "code",
   "execution_count": 2,
   "metadata": {},
   "outputs": [
    {
     "data": {
      "text/plain": [
       "val inorder : tree -> int list = <fun>\n"
      ]
     },
     "execution_count": 2,
     "metadata": {},
     "output_type": "execute_result"
    }
   ],
   "source": [
    "(* inorder traversal of a binary tree *)\n",
    "let rec inorder = function\n",
    "    | Leaf -> []\n",
    "    | Node (left, value, right)\n",
    "        -> inorder left @ [value] @ inorder right"
   ]
  },
  {
   "cell_type": "markdown",
   "metadata": {},
   "source": [
    "Create a tree and check the output of the `inorder` function."
   ]
  },
  {
   "cell_type": "code",
   "execution_count": 3,
   "metadata": {},
   "outputs": [
    {
     "data": {
      "text/plain": [
       "val t : tree =\n",
       "  Node (Node (Leaf, 1, Node (Leaf, 2, Leaf)), 3,\n",
       "   Node (Node (Leaf, 4, Leaf), 5, Leaf))\n"
      ]
     },
     "execution_count": 3,
     "metadata": {},
     "output_type": "execute_result"
    }
   ],
   "source": [
    "let t = Node (Node (Leaf, 1, Node (Leaf, 2, Leaf)), 3, Node (Node (Leaf, 4, Leaf), 5, Leaf))"
   ]
  },
  {
   "cell_type": "code",
   "execution_count": 4,
   "metadata": {},
   "outputs": [
    {
     "data": {
      "text/plain": [
       "- : int list = [1; 2; 3; 4; 5]\n"
      ]
     },
     "execution_count": 4,
     "metadata": {},
     "output_type": "execute_result"
    }
   ],
   "source": [
    "inorder t"
   ]
  },
  {
   "cell_type": "code",
   "execution_count": null,
   "metadata": {},
   "outputs": [],
   "source": []
  }
 ],
 "metadata": {
  "kernelspec": {
   "display_name": "OCaml 4.04.2",
   "language": "OCaml",
   "name": "ocaml-jupyter"
  },
  "language_info": {
   "codemirror_mode": "text/x-ocaml",
   "file_extension": ".ml",
   "mimetype": "text/x-ocaml",
   "name": "OCaml",
   "nbconverter_exporter": null,
   "pygments_lexer": "OCaml",
   "version": "4.04.2"
  }
 },
 "nbformat": 4,
 "nbformat_minor": 2
}
