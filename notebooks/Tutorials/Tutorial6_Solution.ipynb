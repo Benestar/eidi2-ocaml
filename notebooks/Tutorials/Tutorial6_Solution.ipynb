{
 "cells": [
  {
   "cell_type": "markdown",
   "metadata": {},
   "source": [
    "# Übungsblatt 6"
   ]
  },
  {
   "cell_type": "markdown",
   "metadata": {},
   "source": [
    "**Lernziele**\n",
    "\n",
    "In den Übungen dieser Wochen lernen Sie:\n",
    "\n",
    "* Funktionen der Standardbibliothek zum Umgang mit Listen\n",
    "* Records\n",
    "* Aufzählungstypen"
   ]
  },
  {
   "cell_type": "markdown",
   "metadata": {},
   "source": [
    "## Aufgabe 6.1 (P) Java und OCaml: Generics und Polymorphie, Wert- und Referenzgleichheit, Namespacing"
   ]
  },
  {
   "cell_type": "markdown",
   "metadata": {},
   "source": [
    "Ähnlich wie wir mit Funktionen über Werte abstrahieren können, geht dies auch für Typen.\n",
    "Es lassen sich Funktionen definieren, die auf beliebigen Typen funktionieren, genauso wie sich generische Typen mit Typvariablen definieren lassen.\n",
    "In Java heißt dieses Feature Generics, im Kontext von funktionalen Sprachen spricht man von Polymorphie und abstrakten Datentypen.\n",
    "\n",
    "Geben Sie eine entsprechende OCaml-Implementierung für den folgenden Java-Code."
   ]
  },
  {
   "cell_type": "markdown",
   "metadata": {},
   "source": [
    "```java\n",
    "class Pair<L,R> {\n",
    "    L left;\n",
    "    R right;\n",
    "\n",
    "    public Pair(L left, R right) {\n",
    "        this.left = left;\n",
    "        this.right = right;\n",
    "    }\n",
    "\n",
    "    @Override\n",
    "    public boolean equals(Object o) {\n",
    "        if (!(o instanceof Pair)) return false;\n",
    "        Pair pair = (Pair) o;\n",
    "        return this.left.equals(pair.left) &&\n",
    "            this.right.equals(pair.right);\n",
    "    }\n",
    "\n",
    "    static <L, R> Pair<R, L> flip(Pair<L, R> pair) {\n",
    "        return new Pair<R, L>(pair.right, pair.left);\n",
    "    }\n",
    "}\n",
    "\n",
    "public class Generics {\n",
    "    public static void main(String[] args) {\n",
    "        Pair<Integer, String> a = new Pair<>(1, \"one\");\n",
    "        Pair<Integer, String> b = new Pair<>(1, \"one\");\n",
    "        System.out.println(a == b); // Referenzgleichheit: false\n",
    "        System.out.println(a.equals(b)); // Wertgleichheit: true\n",
    "        System.out.println(Pair.flip(a).left); // \"one\"\n",
    "    }\n",
    "}\n",
    "```"
   ]
  },
  {
   "cell_type": "code",
   "execution_count": 1,
   "metadata": {},
   "outputs": [
    {
     "data": {
      "text/plain": [
       "- : 'a list = []\n"
      ]
     },
     "execution_count": 1,
     "metadata": {},
     "output_type": "execute_result"
    }
   ],
   "source": [
    "[]"
   ]
  },
  {
   "cell_type": "code",
   "execution_count": 2,
   "metadata": {},
   "outputs": [
    {
     "data": {
      "text/plain": [
       "- : int * string = (1, \"hallo\")\n"
      ]
     },
     "execution_count": 2,
     "metadata": {},
     "output_type": "execute_result"
    }
   ],
   "source": [
    "(1, \"hallo\")"
   ]
  },
  {
   "cell_type": "code",
   "execution_count": 3,
   "metadata": {},
   "outputs": [
    {
     "data": {
      "text/plain": [
       "module Pair : sig val flip : 'a * 'b -> 'b * 'a end\n"
      ]
     },
     "execution_count": 3,
     "metadata": {},
     "output_type": "execute_result"
    }
   ],
   "source": [
    "module Pair =\n",
    "  struct\n",
    "    let flip (a, b) = (b, a)\n",
    "  end"
   ]
  },
  {
   "cell_type": "code",
   "execution_count": 4,
   "metadata": {},
   "outputs": [
    {
     "data": {
      "text/plain": [
       "- : string * int = (\"hallo\", 1)\n"
      ]
     },
     "execution_count": 4,
     "metadata": {},
     "output_type": "execute_result"
    }
   ],
   "source": [
    "Pair.flip (1, \"hallo\")"
   ]
  },
  {
   "cell_type": "code",
   "execution_count": null,
   "metadata": {},
   "outputs": [],
   "source": []
  },
  {
   "cell_type": "markdown",
   "metadata": {},
   "source": [
    "## Aufgabe 6.2 (P) Exceptions keine Option?"
   ]
  },
  {
   "cell_type": "markdown",
   "metadata": {},
   "source": [
    "Viele Funktionen der Standardbibliothek wie z.B. `List.find : ('a -> bool) -> 'a list -> 'a` werfen eine Exception (in diesem Fall z.B. `Not_found` bei `List.find ((<) 2) [1;2]`. Warum ist dies gefährlich?"
   ]
  },
  {
   "cell_type": "code",
   "execution_count": 5,
   "metadata": {},
   "outputs": [
    {
     "ename": "error",
     "evalue": "error",
     "output_type": "error",
     "traceback": [
      "\u001b[31mException: Not_found.\nRaised at file \"list.ml\", line 183, characters 16-25\nCalled from file \"toplevel/toploop.ml\", line 180, characters 17-56\n\u001b[0m"
     ]
    }
   ],
   "source": [
    "List.find ((<) 2) [1;2]"
   ]
  },
  {
   "cell_type": "markdown",
   "metadata": {},
   "source": [
    "Operatoren sind auch nur normale Funktionen, die neu definiert werden können."
   ]
  },
  {
   "cell_type": "code",
   "execution_count": 6,
   "metadata": {},
   "outputs": [
    {
     "data": {
      "text/plain": [
       "- : int = 1\n"
      ]
     },
     "execution_count": 6,
     "metadata": {},
     "output_type": "execute_result"
    }
   ],
   "source": [
    "let (+) = (-) in 3 + 2"
   ]
  },
  {
   "cell_type": "markdown",
   "metadata": {},
   "source": [
    "In unseren Implementierungen wollen wir deshalb stattdessen den Typ `'a option` benutzen. \n",
    "Im Interpreter (z.B. utop) können Sie sich Definitionen verschiedener Identifier ausgeben lassen.\n",
    "So liefert uns `#show_type option;;`:"
   ]
  },
  {
   "cell_type": "code",
   "execution_count": 7,
   "metadata": {},
   "outputs": [
    {
     "name": "stdout",
     "output_type": "stream",
     "text": [
      "type nonrec 'a option = None | Some of 'a\n"
     ]
    }
   ],
   "source": [
    "#show_type option"
   ]
  },
  {
   "cell_type": "markdown",
   "metadata": {},
   "source": [
    "*Bemerkung*: Wert-Definitionen sind standardmäßig nicht-rekursiv, Typ-Definitionen hingegen standardmäßig rekursiv (siehe `'a tree` weiter unten).\n",
    "Das `nonrec` ist hier aber nicht relevant (rechts kein ungebundener Typ)."
   ]
  },
  {
   "cell_type": "markdown",
   "metadata": {},
   "source": [
    "Im folgenden Beispiel wird gezeigt, wie der `option` Typ verwendet werden kann, um eine `find_opt` Funktion zu definieren, die keine Exceptions wirft."
   ]
  },
  {
   "cell_type": "code",
   "execution_count": 8,
   "metadata": {},
   "outputs": [
    {
     "data": {
      "text/plain": [
       "val find_opt : ('a -> bool) -> 'a list -> 'a option = <fun>\n"
      ]
     },
     "execution_count": 8,
     "metadata": {},
     "output_type": "execute_result"
    }
   ],
   "source": [
    "let rec find_opt f = function\n",
    "  [] -> None\n",
    "| x :: xs -> if f x then Some x else find_opt f xs"
   ]
  },
  {
   "cell_type": "markdown",
   "metadata": {},
   "source": [
    "Da es mühsam wäre jedes Mal ein Pattern-Matching auf Option-Werte zu machen,\n",
    "definieren Sie eine Funktion `(|?) : 'a option -> 'a -> 'a` welche im Falle von `None` den rechten Wert liefert."
   ]
  },
  {
   "cell_type": "code",
   "execution_count": 9,
   "metadata": {},
   "outputs": [
    {
     "data": {
      "text/plain": [
       "val ( |? ) : 'a option -> 'a -> 'a = <fun>\n"
      ]
     },
     "execution_count": 9,
     "metadata": {},
     "output_type": "execute_result"
    }
   ],
   "source": [
    "let (|?) a b = match a with None -> b | Some c -> c"
   ]
  },
  {
   "cell_type": "markdown",
   "metadata": {},
   "source": [
    "Zum Beispiel soll folgender Ausdruck für `[1;2;3;4]` den Wert `2` und für `[1;3]` den Wert `0` liefern."
   ]
  },
  {
   "cell_type": "code",
   "execution_count": 10,
   "metadata": {},
   "outputs": [
    {
     "data": {
      "text/plain": [
       "val f : int list -> int = <fun>\n"
      ]
     },
     "execution_count": 10,
     "metadata": {},
     "output_type": "execute_result"
    }
   ],
   "source": [
    "let f xs = find_opt (fun x -> x mod 2 = 0) xs |? 0"
   ]
  },
  {
   "cell_type": "code",
   "execution_count": 11,
   "metadata": {},
   "outputs": [
    {
     "data": {
      "text/plain": [
       "- : int = 2\n"
      ]
     },
     "execution_count": 11,
     "metadata": {},
     "output_type": "execute_result"
    }
   ],
   "source": [
    "f [1;2;3;4]"
   ]
  },
  {
   "cell_type": "code",
   "execution_count": 12,
   "metadata": {},
   "outputs": [
    {
     "data": {
      "text/plain": [
       "- : int = 0\n"
      ]
     },
     "execution_count": 12,
     "metadata": {},
     "output_type": "execute_result"
    }
   ],
   "source": [
    "f [1;3]"
   ]
  },
  {
   "cell_type": "code",
   "execution_count": null,
   "metadata": {},
   "outputs": [],
   "source": []
  },
  {
   "cell_type": "markdown",
   "metadata": {},
   "source": [
    "## Aufgabe 6.3 (P) Binärbaum"
   ]
  },
  {
   "cell_type": "markdown",
   "metadata": {},
   "source": [
    "Gegeben sei folgende Typ-Definition eines binären Baumes:"
   ]
  },
  {
   "cell_type": "code",
   "execution_count": 13,
   "metadata": {},
   "outputs": [
    {
     "data": {
      "text/plain": [
       "type 'a tree = Node of 'a * 'a tree * 'a tree | Leaf\n"
      ]
     },
     "execution_count": 13,
     "metadata": {},
     "output_type": "execute_result"
    }
   ],
   "source": [
    "type 'a tree = Node of 'a * 'a tree * 'a tree | Leaf"
   ]
  },
  {
   "cell_type": "markdown",
   "metadata": {},
   "source": [
    "Hier ein Beispielbaum zum Testen:"
   ]
  },
  {
   "cell_type": "code",
   "execution_count": 14,
   "metadata": {},
   "outputs": [
    {
     "data": {
      "text/plain": [
       "val tree : int tree =\n",
       "  Node (5, Node (2, Node (1, Leaf, Leaf), Node (3, Leaf, Leaf)),\n",
       "   Node (7, Leaf, Leaf))\n"
      ]
     },
     "execution_count": 14,
     "metadata": {},
     "output_type": "execute_result"
    }
   ],
   "source": [
    "let tree = Node (5, Node (2, Node (1, Leaf, Leaf), Node (3, Leaf, Leaf)), Node (7, Leaf, Leaf))"
   ]
  },
  {
   "cell_type": "markdown",
   "metadata": {},
   "source": [
    "Implementieren Sie die Funktion\n",
    "\n",
    "```ocaml\n",
    "val insert : 'a -> 'a tree -> 'a tree\n",
    "```\n",
    "\n",
    "die einen Wert in den Baum einfügt und den neuen Baum zurückliefert. Beim Einfügen\n",
    "in den Suchbaum sollen kleinere Elemente links im Baum zu finden sein."
   ]
  },
  {
   "cell_type": "code",
   "execution_count": 15,
   "metadata": {},
   "outputs": [
    {
     "data": {
      "text/plain": [
       "val insert : 'a -> 'a tree -> 'a tree = <fun>\n"
      ]
     },
     "execution_count": 15,
     "metadata": {},
     "output_type": "execute_result"
    }
   ],
   "source": [
    "let rec insert a t =\n",
    "  match t with\n",
    "    Leaf -> Node (a, Leaf, Leaf)\n",
    "  | Node (x, l, r) ->\n",
    "      if a < x then\n",
    "        Node (x, insert a l, r)\n",
    "      else if a > x then\n",
    "        Node (x, l, insert a r)\n",
    "      else\n",
    "        Node (x, l, r)"
   ]
  },
  {
   "cell_type": "markdown",
   "metadata": {},
   "source": [
    "Implementieren Sie die Funktion\n",
    "\n",
    "```ocaml\n",
    "val height : 'a tree -> int\n",
    "```\n",
    "\n",
    "die die Höhe des Baumes berechnet. Ein Blatt hat dabei die Höhe 0."
   ]
  },
  {
   "cell_type": "code",
   "execution_count": 16,
   "metadata": {},
   "outputs": [
    {
     "data": {
      "text/plain": [
       "val height : 'a tree -> int = <fun>\n"
      ]
     },
     "execution_count": 16,
     "metadata": {},
     "output_type": "execute_result"
    }
   ],
   "source": [
    "let rec height t =\n",
    "  match t with\n",
    "    Leaf -> 0\n",
    "  | Node (_, l, r) -> max (height l) (height r) + 1"
   ]
  },
  {
   "cell_type": "markdown",
   "metadata": {},
   "source": [
    "Implementieren Sie die Funktionen\n",
    "\n",
    "```ocaml\n",
    "val min_elem : 'a tree -> 'a option\n",
    "```\n",
    "\n",
    "und\n",
    "\n",
    "```ocaml\n",
    "val max_elem : 'a tree -> 'a option\n",
    "```\n",
    "\n",
    "die das kleinste bzw. größte Element eines Baumes zurückliefern, sofern ein solches existiert."
   ]
  },
  {
   "cell_type": "code",
   "execution_count": 17,
   "metadata": {},
   "outputs": [
    {
     "data": {
      "text/plain": [
       "val min_elem : 'a tree -> 'a option = <fun>\n"
      ]
     },
     "execution_count": 17,
     "metadata": {},
     "output_type": "execute_result"
    }
   ],
   "source": [
    "let rec min_elem t =\n",
    "  match t with\n",
    "    Leaf -> None\n",
    "  | Node (x, l, r) ->\n",
    "      if l = Leaf then\n",
    "        Some x\n",
    "      else\n",
    "        min_elem l"
   ]
  },
  {
   "cell_type": "code",
   "execution_count": 18,
   "metadata": {},
   "outputs": [
    {
     "data": {
      "text/plain": [
       "val max_elem : 'a tree -> 'a option = <fun>\n"
      ]
     },
     "execution_count": 18,
     "metadata": {},
     "output_type": "execute_result"
    }
   ],
   "source": [
    "let rec max_elem t =\n",
    "  match t with\n",
    "    Leaf -> None\n",
    "  | Node (x, l, r) ->\n",
    "      if r = Leaf then\n",
    "        Some x\n",
    "      else\n",
    "        max_elem r"
   ]
  },
  {
   "cell_type": "markdown",
   "metadata": {},
   "source": [
    "Implementieren Sie die Funktion\n",
    "\n",
    "```ocaml\n",
    "val remove : 'a -> 'a tree -> 'a tree\n",
    "```\n",
    "\n",
    "die ein Element aus dem Baum entfernt und den neuen Baum zurückliefert."
   ]
  },
  {
   "cell_type": "code",
   "execution_count": 19,
   "metadata": {},
   "outputs": [
    {
     "data": {
      "text/plain": [
       "val remove : 'a -> 'a tree -> 'a tree = <fun>\n"
      ]
     },
     "execution_count": 19,
     "metadata": {},
     "output_type": "execute_result"
    }
   ],
   "source": [
    "let rec remove a t =\n",
    "  match t with\n",
    "    Leaf -> Leaf\n",
    "  | Node (x, l, r) ->\n",
    "      if a < x then\n",
    "        Node (x, remove a l, r)\n",
    "      else if a > x then\n",
    "        Node (x, l, remove a r)\n",
    "      else match (max_elem l) with\n",
    "        Some m -> Node (m, remove m l, r)\n",
    "      | None -> r"
   ]
  },
  {
   "cell_type": "code",
   "execution_count": null,
   "metadata": {},
   "outputs": [],
   "source": []
  },
  {
   "cell_type": "code",
   "execution_count": null,
   "metadata": {},
   "outputs": [],
   "source": []
  },
  {
   "cell_type": "code",
   "execution_count": null,
   "metadata": {},
   "outputs": [],
   "source": []
  },
  {
   "cell_type": "code",
   "execution_count": null,
   "metadata": {},
   "outputs": [],
   "source": []
  },
  {
   "cell_type": "code",
   "execution_count": null,
   "metadata": {},
   "outputs": [],
   "source": []
  },
  {
   "cell_type": "code",
   "execution_count": null,
   "metadata": {},
   "outputs": [],
   "source": []
  }
 ],
 "metadata": {
  "kernelspec": {
   "display_name": "OCaml 4.04.2",
   "language": "OCaml",
   "name": "ocaml-jupyter"
  },
  "language_info": {
   "codemirror_mode": "text/x-ocaml",
   "file_extension": ".ml",
   "mimetype": "text/x-ocaml",
   "name": "OCaml",
   "nbconverter_exporter": null,
   "pygments_lexer": "OCaml",
   "version": "4.04.2"
  }
 },
 "nbformat": 4,
 "nbformat_minor": 2
}
