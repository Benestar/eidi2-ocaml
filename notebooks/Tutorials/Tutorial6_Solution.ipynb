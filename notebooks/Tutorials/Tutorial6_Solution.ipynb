{
 "cells": [
  {
   "cell_type": "markdown",
   "metadata": {},
   "source": [
    "# Übungsblatt 6"
   ]
  },
  {
   "cell_type": "markdown",
   "metadata": {},
   "source": [
    "**Lernziele**\n",
    "\n",
    "In den Übungen dieser Wochen lernen Sie:\n",
    "\n",
    "* Funktionen der Standardbibliothek zum Umgang mit Listen\n",
    "* Records\n",
    "* Aufzählungstypen"
   ]
  },
  {
   "cell_type": "markdown",
   "metadata": {},
   "source": [
    "## Aufgabe 6.1 (P) Java und OCaml: Generics und Polymorphie, Wert- und Referenzgleichheit, Namespacing"
   ]
  },
  {
   "cell_type": "markdown",
   "metadata": {},
   "source": [
    "Ähnlich wie wir mit Funktionen über Werte abstrahieren können, geht dies auch für Typen.\n",
    "Es lassen sich Funktionen definieren, die auf beliebigen Typen funktionieren, genauso wie sich generische Typen mit Typvariablen definieren lassen.\n",
    "In Java heißt dieses Feature Generics, im Kontext von funktionalen Sprachen spricht man von Polymorphie und abstrakten Datentypen.\n",
    "\n",
    "Geben Sie eine entsprechende OCaml-Implementierung für den folgenden Java-Code."
   ]
  },
  {
   "cell_type": "markdown",
   "metadata": {},
   "source": [
    "```java\n",
    "class Pair<L,R> {\n",
    "    L left;\n",
    "    R right;\n",
    "\n",
    "    public Pair(L left, R right) {\n",
    "        this.left = left;\n",
    "        this.right = right;\n",
    "    }\n",
    "\n",
    "    @Override\n",
    "    public boolean equals(Object o) {\n",
    "        if (!(o instanceof Pair)) return false;\n",
    "        Pair pair = (Pair) o;\n",
    "        return this.left.equals(pair.left) &&\n",
    "            this.right.equals(pair.right);\n",
    "    }\n",
    "\n",
    "    static <L, R> Pair<R, L> flip(Pair<L, R> pair) {\n",
    "        return new Pair<R, L>(pair.right, pair.left);\n",
    "    }\n",
    "}\n",
    "\n",
    "public class Generics {\n",
    "    public static void main(String[] args) {\n",
    "        Pair<Integer, String> a = new Pair<>(1, \"one\");\n",
    "        Pair<Integer, String> b = new Pair<>(1, \"one\");\n",
    "        System.out.println(a == b); // Referenzgleichheit: false\n",
    "        System.out.println(a.equals(b)); // Wertgleichheit: true\n",
    "        System.out.println(Pair.flip(a).left); // \"one\"\n",
    "    }\n",
    "}\n",
    "```"
   ]
  },
  {
   "cell_type": "code",
   "execution_count": null,
   "metadata": {},
   "outputs": [],
   "source": [
    "(* TODO *)"
   ]
  },
  {
   "cell_type": "code",
   "execution_count": null,
   "metadata": {},
   "outputs": [],
   "source": []
  },
  {
   "cell_type": "code",
   "execution_count": null,
   "metadata": {},
   "outputs": [],
   "source": []
  },
  {
   "cell_type": "markdown",
   "metadata": {},
   "source": [
    "## Aufgabe 6.2 (P) Exceptions keine Option?"
   ]
  },
  {
   "cell_type": "markdown",
   "metadata": {},
   "source": [
    "Viele Funktionen der Standardbibliothek wie z.B. `List.find : ('a -> bool) -> 'a list -> 'a` werfen eine Exception (in diesem Fall z.B. `Not_found` bei `List.find ((<) 2) [1;2]`. Warum ist dies gefährlich?"
   ]
  },
  {
   "cell_type": "code",
   "execution_count": null,
   "metadata": {},
   "outputs": [],
   "source": [
    "List.find"
   ]
  },
  {
   "cell_type": "code",
   "execution_count": null,
   "metadata": {},
   "outputs": [],
   "source": [
    "(<)"
   ]
  },
  {
   "cell_type": "code",
   "execution_count": null,
   "metadata": {},
   "outputs": [],
   "source": [
    "(<) 2"
   ]
  },
  {
   "cell_type": "code",
   "execution_count": null,
   "metadata": {},
   "outputs": [],
   "source": [
    "List.find ((<) 2) [1;2]"
   ]
  },
  {
   "cell_type": "markdown",
   "metadata": {},
   "source": [
    "Operatoren sind auch nur normale Funktionen, die neu definiert werden können."
   ]
  },
  {
   "cell_type": "code",
   "execution_count": null,
   "metadata": {},
   "outputs": [],
   "source": [
    "let (+) = (-) in 3 + 2"
   ]
  },
  {
   "cell_type": "code",
   "execution_count": null,
   "metadata": {},
   "outputs": [],
   "source": [
    "let (-!>) a b = a - 2 * b in 2 -!> 3"
   ]
  },
  {
   "cell_type": "markdown",
   "metadata": {},
   "source": [
    "In unseren Implementierungen wollen wir deshalb stattdessen den Typ `'a option` benutzen. \n",
    "Im Interpreter (z.B. utop) können Sie sich Definitionen verschiedener Identifier ausgeben lassen.\n",
    "So liefert uns `#show_type option;;`:"
   ]
  },
  {
   "cell_type": "code",
   "execution_count": null,
   "metadata": {},
   "outputs": [],
   "source": [
    "#show_type option"
   ]
  },
  {
   "cell_type": "markdown",
   "metadata": {},
   "source": [
    "*Bemerkung*: Wert-Definitionen sind standardmäßig nicht-rekursiv, Typ-Definitionen hingegen standardmäßig rekursiv (siehe `'a tree` weiter unten).\n",
    "Das `nonrec` ist hier aber nicht relevant (rechts kein ungebundener Typ)."
   ]
  },
  {
   "cell_type": "markdown",
   "metadata": {},
   "source": [
    "Da es mühsam wäre jedes Mal ein Pattern-Matching auf Option-Werte zu machen,\n",
    "definieren Sie eine Funktion `(|?) : 'a option -> 'a -> 'a` welche im Falle von `None` den rechten Wert liefert."
   ]
  },
  {
   "cell_type": "code",
   "execution_count": null,
   "metadata": {},
   "outputs": [],
   "source": [
    "let (!?) a b = ..."
   ]
  },
  {
   "cell_type": "markdown",
   "metadata": {},
   "source": [
    "Zum Beispiel soll folgender Ausdruck für `[1;2;3;4]` den Wert `2` und für `[1;3]` den Wert `0` liefern."
   ]
  },
  {
   "cell_type": "code",
   "execution_count": null,
   "metadata": {},
   "outputs": [],
   "source": [
    "let f xs = List.find_opt (fun x -> x mod 2 = 0) xs |? 0"
   ]
  },
  {
   "cell_type": "markdown",
   "metadata": {},
   "source": [
    "Ein weiterer hilfreicher Operator ist `>>=` (wird oft \"bind\" genannt)."
   ]
  },
  {
   "cell_type": "code",
   "execution_count": null,
   "metadata": {},
   "outputs": [],
   "source": [
    "let (>>=) a f = match a with Some x -> f x | None -> None"
   ]
  },
  {
   "cell_type": "code",
   "execution_count": null,
   "metadata": {},
   "outputs": [],
   "source": []
  },
  {
   "cell_type": "markdown",
   "metadata": {},
   "source": [
    "## Aufgabe 6.3 (P) Binärbaum"
   ]
  },
  {
   "cell_type": "markdown",
   "metadata": {},
   "source": [
    "Gegeben sei folgende Typ-Definition eines binären Baumes:"
   ]
  },
  {
   "cell_type": "code",
   "execution_count": null,
   "metadata": {},
   "outputs": [],
   "source": [
    "type 'a tree = Node of 'a * 'a tree * 'a tree | Leaf"
   ]
  },
  {
   "cell_type": "markdown",
   "metadata": {},
   "source": [
    "Implementieren Sie die Funktion\n",
    "\n",
    "```ocaml\n",
    "val insert : 'a -> 'a tree -> 'a tree\n",
    "```\n",
    "\n",
    "die einen Wert in den Baum einfügt und den neuen Baum zurückliefert. Beim Einfügen\n",
    "in den Suchbaum sollen kleinere Elemente links im Baum zu finden sein."
   ]
  },
  {
   "cell_type": "code",
   "execution_count": null,
   "metadata": {},
   "outputs": [],
   "source": [
    "(* TODO *)"
   ]
  },
  {
   "cell_type": "markdown",
   "metadata": {},
   "source": [
    "Implementieren Sie die Funktion\n",
    "\n",
    "```ocaml\n",
    "val height : 'a tree -> int\n",
    "```\n",
    "\n",
    "die die Höhe des Baumes berechnet. Ein Blatt hat dabei die Höhe 0."
   ]
  },
  {
   "cell_type": "code",
   "execution_count": null,
   "metadata": {},
   "outputs": [],
   "source": [
    "(* TODO *)"
   ]
  },
  {
   "cell_type": "markdown",
   "metadata": {},
   "source": [
    "Implementieren Sie die Funktionen\n",
    "\n",
    "```ocaml\n",
    "val min_elem : 'a tree -> 'a option\n",
    "```\n",
    "\n",
    "und\n",
    "\n",
    "```ocaml\n",
    "val max_elem : 'a tree -> 'a option\n",
    "```\n",
    "\n",
    "die das kleinste bzw. größte Element eines Baumes zurückliefern, sofern ein solches existiert."
   ]
  },
  {
   "cell_type": "code",
   "execution_count": null,
   "metadata": {},
   "outputs": [],
   "source": [
    "(* TODO *)"
   ]
  },
  {
   "cell_type": "markdown",
   "metadata": {},
   "source": [
    "Implementieren Sie die Funktion\n",
    "\n",
    "```ocaml\n",
    "val remove : 'a -> 'a tree -> 'a tree\n",
    "```\n",
    "\n",
    "die ein Element aus dem Baum entfernt und den neuen Baum zurückliefert."
   ]
  },
  {
   "cell_type": "code",
   "execution_count": null,
   "metadata": {},
   "outputs": [],
   "source": [
    "(* TODO *)"
   ]
  },
  {
   "cell_type": "code",
   "execution_count": null,
   "metadata": {},
   "outputs": [],
   "source": []
  },
  {
   "cell_type": "code",
   "execution_count": null,
   "metadata": {},
   "outputs": [],
   "source": []
  },
  {
   "cell_type": "code",
   "execution_count": null,
   "metadata": {},
   "outputs": [],
   "source": []
  },
  {
   "cell_type": "code",
   "execution_count": null,
   "metadata": {},
   "outputs": [],
   "source": []
  },
  {
   "cell_type": "code",
   "execution_count": null,
   "metadata": {},
   "outputs": [],
   "source": []
  },
  {
   "cell_type": "code",
   "execution_count": null,
   "metadata": {},
   "outputs": [],
   "source": []
  }
 ],
 "metadata": {
  "kernelspec": {
   "display_name": "OCaml 4.04.2",
   "language": "OCaml",
   "name": "ocaml-jupyter"
  },
  "language_info": {
   "codemirror_mode": "text/x-ocaml",
   "file_extension": ".ml",
   "mimetype": "text/x-ocaml",
   "name": "OCaml",
   "nbconverter_exporter": null,
   "pygments_lexer": "OCaml",
   "version": "4.04.2"
  }
 },
 "nbformat": 4,
 "nbformat_minor": 2
}
