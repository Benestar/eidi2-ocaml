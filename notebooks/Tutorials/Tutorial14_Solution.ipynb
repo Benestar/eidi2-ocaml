{
 "cells": [
  {
   "cell_type": "markdown",
   "metadata": {},
   "source": [
    "# Übungsblatt 14"
   ]
  },
  {
   "cell_type": "markdown",
   "metadata": {},
   "source": [
    "**Lernziele**\n",
    "\n",
    "In den Übungen dieser Wochen lernen Sie:\n",
    "* Nebenläufiges Programmieren mit den Modulen `Thread` und `Event`.\n",
    "* Kanäle zur Kommunikation zwischen Threads einzusetzen.\n",
    "* Einfache Algorithmen zu Parallelisieren."
   ]
  },
  {
   "cell_type": "code",
   "execution_count": null,
   "metadata": {},
   "outputs": [],
   "source": []
  },
  {
   "cell_type": "markdown",
   "metadata": {},
   "source": [
    "### Threads"
   ]
  },
  {
   "cell_type": "markdown",
   "metadata": {},
   "source": [
    "In utop können Threads mit `utop -I +threads` verwendet werden. Dann muss noch einmal `#thread;;` eingegeben werden."
   ]
  },
  {
   "cell_type": "code",
   "execution_count": 1,
   "metadata": {},
   "outputs": [
    {
     "name": "stdout",
     "output_type": "stream",
     "text": [
      "Findlib has been successfully loaded. Additional directives:\n",
      "  #require \"package\";;      to load a package\n",
      "  #list;;                   to list the available packages\n",
      "  #camlp4o;;                to load camlp4 (standard syntax)\n",
      "  #camlp4r;;                to load camlp4 (revised syntax)\n",
      "  #predicates \"p,q,...\";;   to set these predicates\n",
      "  Topfind.reset();;         to force that packages will be reloaded\n",
      "  #thread;;                 to enable threads\n",
      "\n"
     ]
    },
    {
     "name": "stderr",
     "output_type": "stream",
     "text": [
      "/home/vagrant/.opam/4.04.2/lib/ocaml/threads: added to search path\n",
      "/home/vagrant/.opam/4.04.2/lib/ocaml/unix.cma: loaded\n",
      "/home/vagrant/.opam/4.04.2/lib/ocaml/threads/threads.cma: loaded\n"
     ]
    },
    {
     "name": "stdout",
     "output_type": "stream",
     "text": [
      "No such package: camlp4\n"
     ]
    }
   ],
   "source": [
    "#thread;;"
   ]
  },
  {
   "cell_type": "code",
   "execution_count": null,
   "metadata": {},
   "outputs": [],
   "source": []
  },
  {
   "cell_type": "markdown",
   "metadata": {},
   "source": [
    "Hierdurch erhalten wir das `Thread` Modul, welches uns alle nötigen Funktionen im Umgang mit Threads zur Verfügung stellt. Im Folgenden stehen die wichtigsten Funktionen, die wir für benötigen."
   ]
  },
  {
   "cell_type": "code",
   "execution_count": 2,
   "metadata": {},
   "outputs": [
    {
     "data": {
      "text/plain": [
       "- : ('a -> 'b) -> 'a -> Thread.t = <fun>\n"
      ]
     },
     "execution_count": 2,
     "metadata": {},
     "output_type": "execute_result"
    }
   ],
   "source": [
    "Thread.create                           (* Erstellt einen neuen Thread *)"
   ]
  },
  {
   "cell_type": "code",
   "execution_count": 3,
   "metadata": {},
   "outputs": [
    {
     "data": {
      "text/plain": [
       "- : Thread.t -> unit = <fun>\n"
      ]
     },
     "execution_count": 3,
     "metadata": {},
     "output_type": "execute_result"
    }
   ],
   "source": [
    "Thread.join                             (* Joint dem gegebenen Thread *)"
   ]
  },
  {
   "cell_type": "code",
   "execution_count": 4,
   "metadata": {},
   "outputs": [
    {
     "data": {
      "text/plain": [
       "- : unit -> Thread.t = <fun>\n"
      ]
     },
     "execution_count": 4,
     "metadata": {},
     "output_type": "execute_result"
    }
   ],
   "source": [
    "Thread.self                             (* Gibt den aktuellen Thread zurück *)"
   ]
  },
  {
   "cell_type": "code",
   "execution_count": 5,
   "metadata": {},
   "outputs": [
    {
     "data": {
      "text/plain": [
       "- : Thread.t -> int = <fun>\n"
      ]
     },
     "execution_count": 5,
     "metadata": {},
     "output_type": "execute_result"
    }
   ],
   "source": [
    "Thread.id                               (* Wandelt einen Thread ID in einen Integer um *)"
   ]
  },
  {
   "cell_type": "code",
   "execution_count": 6,
   "metadata": {},
   "outputs": [
    {
     "data": {
      "text/plain": [
       "- : float -> unit = <fun>\n"
      ]
     },
     "execution_count": 6,
     "metadata": {},
     "output_type": "execute_result"
    }
   ],
   "source": [
    "Thread.delay                            (* Wartet die gegebene Anzahl Sekunden *)"
   ]
  },
  {
   "cell_type": "code",
   "execution_count": null,
   "metadata": {},
   "outputs": [],
   "source": []
  },
  {
   "cell_type": "markdown",
   "metadata": {},
   "source": [
    "Hiermit lässt sich ein einfaches Beispiel konstruieren."
   ]
  },
  {
   "cell_type": "code",
   "execution_count": 7,
   "metadata": {},
   "outputs": [
    {
     "data": {
      "text/plain": [
       "val print_thread : string -> unit = <fun>\n"
      ]
     },
     "execution_count": 7,
     "metadata": {},
     "output_type": "execute_result"
    }
   ],
   "source": [
    "let print_thread msg =\n",
    "  let thread_id = Thread.(id (self ())) in\n",
    "    Printf.printf \"Thread %d: %s\\n%!\" thread_id msg"
   ]
  },
  {
   "cell_type": "code",
   "execution_count": 8,
   "metadata": {},
   "outputs": [
    {
     "data": {
      "text/plain": [
       "val create_thread : unit -> Thread.t = <fun>\n"
      ]
     },
     "execution_count": 8,
     "metadata": {},
     "output_type": "execute_result"
    }
   ],
   "source": [
    "let create_thread () =\n",
    "  let f () = Thread.delay (Random.float 1.); print_thread \"Hallo :)\" in\n",
    "    Thread.create f ()"
   ]
  },
  {
   "cell_type": "markdown",
   "metadata": {},
   "source": [
    "Die `create_thread` Methode erstellt einen Thread, der nach einem zufälligen Zeitintervall die Methode `print_hello` aufruft, welche die ID des aktuellen Threads ausgibt. Wir erzeugen nun zwei Threads und nachdem diese terminiert sind, rufen wir `print_hello` noch aus dem Hauptthread auf."
   ]
  },
  {
   "cell_type": "code",
   "execution_count": 9,
   "metadata": {},
   "outputs": [
    {
     "name": "stdout",
     "output_type": "stream",
     "text": [
      "Thread 1: Hallo :)\n",
      "Thread 2: Hallo :)\n",
      "Thread 0: Main thread\n"
     ]
    }
   ],
   "source": [
    "let () =\n",
    "  let t1 = create_thread () in\n",
    "  let t2 = create_thread () in\n",
    "    Thread.join t1;\n",
    "    Thread.join t2;\n",
    "    print_thread \"Main thread\""
   ]
  },
  {
   "cell_type": "code",
   "execution_count": null,
   "metadata": {},
   "outputs": [],
   "source": []
  },
  {
   "cell_type": "markdown",
   "metadata": {},
   "source": [
    "### Channels"
   ]
  },
  {
   "cell_type": "markdown",
   "metadata": {},
   "source": [
    "Die Kommunikation zwischen verschiedenen Threads kann über sogenannte Channels erfolgen. In dem `Event` Modul finden wir die zugehörigen Typen und Methoden."
   ]
  },
  {
   "cell_type": "code",
   "execution_count": 10,
   "metadata": {},
   "outputs": [
    {
     "data": {
      "text/plain": [
       "- : unit -> 'a Event.channel = <fun>\n"
      ]
     },
     "execution_count": 10,
     "metadata": {},
     "output_type": "execute_result"
    }
   ],
   "source": [
    "Event.new_channel                       (* Erzeugt einen neuen Channel *)"
   ]
  },
  {
   "cell_type": "code",
   "execution_count": 11,
   "metadata": {},
   "outputs": [
    {
     "data": {
      "text/plain": [
       "- : 'a Event.channel -> 'a -> unit Event.event = <fun>\n"
      ]
     },
     "execution_count": 11,
     "metadata": {},
     "output_type": "execute_result"
    }
   ],
   "source": [
    "Event.send                              (* Schickt den gegebenen Wert über den Channel (non-blocking) *)"
   ]
  },
  {
   "cell_type": "code",
   "execution_count": 12,
   "metadata": {},
   "outputs": [
    {
     "data": {
      "text/plain": [
       "- : 'a Event.channel -> 'a Event.event = <fun>\n"
      ]
     },
     "execution_count": 12,
     "metadata": {},
     "output_type": "execute_result"
    }
   ],
   "source": [
    "Event.receive                           (* Empfängt ein Event vom Channel (non-blocking) *)"
   ]
  },
  {
   "cell_type": "code",
   "execution_count": 13,
   "metadata": {},
   "outputs": [
    {
     "data": {
      "text/plain": [
       "- : 'a Event.event -> 'a = <fun>\n"
      ]
     },
     "execution_count": 13,
     "metadata": {},
     "output_type": "execute_result"
    }
   ],
   "source": [
    "Event.sync                              (* Wandelt ein Event in einen tatsächlichen Wert um (blocking) *)"
   ]
  },
  {
   "cell_type": "code",
   "execution_count": null,
   "metadata": {},
   "outputs": [],
   "source": []
  },
  {
   "cell_type": "markdown",
   "metadata": {},
   "source": [
    "Es gibt noch weitere fortgeschrittene Funktionen im Event Modul, die eventuell benötigt werden, wenn mehrere Events verarbeitet werden sollen."
   ]
  },
  {
   "cell_type": "code",
   "execution_count": 14,
   "metadata": {},
   "outputs": [
    {
     "data": {
      "text/plain": [
       "- : 'a Event.event -> ('a -> 'b) -> 'b Event.event = <fun>\n"
      ]
     },
     "execution_count": 14,
     "metadata": {},
     "output_type": "execute_result"
    }
   ],
   "source": [
    "Event.wrap                              (* Wendet eine Funktion auf die Werte im Event an *)"
   ]
  },
  {
   "cell_type": "code",
   "execution_count": 15,
   "metadata": {},
   "outputs": [
    {
     "data": {
      "text/plain": [
       "- : 'a Event.event list -> 'a Event.event = <fun>\n"
      ]
     },
     "execution_count": 15,
     "metadata": {},
     "output_type": "execute_result"
    }
   ],
   "source": [
    "Event.choose                            (* Wählt ein Event aus der Event-Liste aus (non-blocking) *)"
   ]
  },
  {
   "cell_type": "code",
   "execution_count": 16,
   "metadata": {},
   "outputs": [
    {
     "data": {
      "text/plain": [
       "- : 'a Event.event list -> 'a = <fun>\n"
      ]
     },
     "execution_count": 16,
     "metadata": {},
     "output_type": "execute_result"
    }
   ],
   "source": [
    "Event.select                            (* Wählt ein Event aus und synchronisiert direkt (blocking) *)"
   ]
  },
  {
   "cell_type": "code",
   "execution_count": null,
   "metadata": {},
   "outputs": [],
   "source": []
  },
  {
   "cell_type": "markdown",
   "metadata": {},
   "source": [
    "Im Folgenden wieder ein Beispiel zu Channels."
   ]
  },
  {
   "cell_type": "code",
   "execution_count": 17,
   "metadata": {},
   "outputs": [
    {
     "data": {
      "text/plain": [
       "val channel : '_a Event.channel = <abstr>\n"
      ]
     },
     "execution_count": 17,
     "metadata": {},
     "output_type": "execute_result"
    }
   ],
   "source": [
    "let channel = Event.new_channel ()"
   ]
  },
  {
   "cell_type": "code",
   "execution_count": 18,
   "metadata": {},
   "outputs": [
    {
     "data": {
      "text/plain": [
       "val send_string : string -> Thread.t = <fun>\n"
      ]
     },
     "execution_count": 18,
     "metadata": {},
     "output_type": "execute_result"
    }
   ],
   "source": [
    "let send_string x =\n",
    "  let f () =\n",
    "    print_thread \"sending to channel ...\";\n",
    "    Event.(sync (send channel x));\n",
    "    print_thread (\"sent '\" ^ x ^ \"' to channel\")\n",
    "  in\n",
    "    Thread.create f ()"
   ]
  },
  {
   "cell_type": "code",
   "execution_count": 19,
   "metadata": {},
   "outputs": [
    {
     "data": {
      "text/plain": [
       "val receive_string : unit -> Thread.t = <fun>\n"
      ]
     },
     "execution_count": 19,
     "metadata": {},
     "output_type": "execute_result"
    }
   ],
   "source": [
    "let receive_string () =\n",
    "  let f () =\n",
    "    print_thread \"receiving from channel ...\";\n",
    "    let x = Event.(sync (receive channel)) in\n",
    "    print_thread (\"received '\" ^ x ^ \"' from channel\")\n",
    "  in\n",
    "    Thread.create f ()"
   ]
  },
  {
   "cell_type": "code",
   "execution_count": null,
   "metadata": {},
   "outputs": [],
   "source": []
  },
  {
   "cell_type": "markdown",
   "metadata": {},
   "source": [
    "Die Methoden zum Lesen und Schreiben der Channels können wir jetzt verwenden."
   ]
  },
  {
   "cell_type": "code",
   "execution_count": 20,
   "metadata": {},
   "outputs": [
    {
     "data": {
      "text/plain": [
       "- : Thread.t = <abstr>\n"
      ]
     },
     "execution_count": 20,
     "metadata": {},
     "output_type": "execute_result"
    }
   ],
   "source": [
    "send_string \"abc\""
   ]
  },
  {
   "cell_type": "code",
   "execution_count": 21,
   "metadata": {},
   "outputs": [
    {
     "name": "stdout",
     "output_type": "stream",
     "text": [
      "Thread 3: sending to channel ...\n"
     ]
    },
    {
     "data": {
      "text/plain": [
       "- : Thread.t = <abstr>\n"
      ]
     },
     "execution_count": 21,
     "metadata": {},
     "output_type": "execute_result"
    }
   ],
   "source": [
    "send_string \"def\""
   ]
  },
  {
   "cell_type": "code",
   "execution_count": 22,
   "metadata": {},
   "outputs": [
    {
     "data": {
      "text/plain": [
       "- : Thread.t = <abstr>\n"
      ]
     },
     "execution_count": 22,
     "metadata": {},
     "output_type": "execute_result"
    }
   ],
   "source": [
    "receive_string ()"
   ]
  },
  {
   "cell_type": "code",
   "execution_count": 23,
   "metadata": {},
   "outputs": [
    {
     "name": "stdout",
     "output_type": "stream",
     "text": [
      "Thread 4: sending to channel ...\n",
      "Thread 5: receiving from channel ...\n",
      "Thread 5: received 'abc' from channel\n",
      "Thread 3: sent 'abc' to channel\n"
     ]
    },
    {
     "data": {
      "text/plain": [
       "- : Thread.t = <abstr>\n"
      ]
     },
     "execution_count": 23,
     "metadata": {},
     "output_type": "execute_result"
    }
   ],
   "source": [
    "receive_string ()"
   ]
  },
  {
   "cell_type": "code",
   "execution_count": 24,
   "metadata": {},
   "outputs": [
    {
     "name": "stdout",
     "output_type": "stream",
     "text": [
      "Thread 6: receiving from channel ...\n",
      "Thread 6: received 'def' from channel\n",
      "Thread 4: sent 'def' to channel\n"
     ]
    },
    {
     "data": {
      "text/plain": [
       "- : Thread.t = <abstr>\n"
      ]
     },
     "execution_count": 24,
     "metadata": {},
     "output_type": "execute_result"
    }
   ],
   "source": [
    "receive_string ()"
   ]
  },
  {
   "cell_type": "code",
   "execution_count": 25,
   "metadata": {},
   "outputs": [
    {
     "name": "stdout",
     "output_type": "stream",
     "text": [
      "Thread 7: receiving from channel ...\n"
     ]
    },
    {
     "data": {
      "text/plain": [
       "- : Thread.t = <abstr>\n"
      ]
     },
     "execution_count": 25,
     "metadata": {},
     "output_type": "execute_result"
    }
   ],
   "source": [
    "send_string \"ghi\""
   ]
  },
  {
   "cell_type": "code",
   "execution_count": null,
   "metadata": {},
   "outputs": [],
   "source": []
  },
  {
   "cell_type": "code",
   "execution_count": null,
   "metadata": {},
   "outputs": [],
   "source": []
  },
  {
   "cell_type": "code",
   "execution_count": null,
   "metadata": {},
   "outputs": [],
   "source": []
  },
  {
   "cell_type": "markdown",
   "metadata": {},
   "source": [
    "## Aufgabe 14.1 (P) Future"
   ]
  },
  {
   "cell_type": "markdown",
   "metadata": {},
   "source": [
    "Als vordefinierte Hilfsfunktion verwenden wir `forever` aus den Folien. Diese Methode bekommt eine Funktion `f` übergeben, die in einem separatem Thread durchgängig ausgeführt wird."
   ]
  },
  {
   "cell_type": "code",
   "execution_count": 26,
   "metadata": {},
   "outputs": [
    {
     "name": "stdout",
     "output_type": "stream",
     "text": [
      "Thread 8: sending to channel ...\n",
      "Thread 8: sent 'ghi' to channel\n",
      "Thread 7: received 'ghi' from channel\n"
     ]
    },
    {
     "data": {
      "text/plain": [
       "val forever : ('a -> 'a) -> 'a -> Thread.t = <fun>\n"
      ]
     },
     "execution_count": 26,
     "metadata": {},
     "output_type": "execute_result"
    }
   ],
   "source": [
    "let forever f init =\n",
    "  let rec loop x = loop (f x) in\n",
    "    Thread.create loop init"
   ]
  },
  {
   "cell_type": "code",
   "execution_count": 27,
   "metadata": {},
   "outputs": [],
   "source": [
    "(* let t = forever (fun () -> Thread.delay 1.; Printf.printf \"Hallo\\n%!\") () *)"
   ]
  },
  {
   "cell_type": "code",
   "execution_count": null,
   "metadata": {},
   "outputs": [],
   "source": [
    " "
   ]
  },
  {
   "cell_type": "code",
   "execution_count": 28,
   "metadata": {},
   "outputs": [
    {
     "data": {
      "text/plain": [
       "module Future :\n",
       "  sig\n",
       "    type 'a t\n",
       "    val create : ('a -> 'b) -> 'a -> 'b t\n",
       "    val get : 'a t -> 'a\n",
       "  end\n"
      ]
     },
     "execution_count": 28,
     "metadata": {},
     "output_type": "execute_result"
    }
   ],
   "source": [
    "module Future :\n",
    "  sig\n",
    "    type 'a t\n",
    "    val create : ('a -> 'b) -> 'a -> 'b t\n",
    "    val get : 'a t -> 'a\n",
    "  end\n",
    "  =\n",
    "  struct\n",
    "    open Event\n",
    "  \n",
    "    type 'a t = 'a channel\n",
    "    \n",
    "    let create f a =\n",
    "      let c = new_channel () in\n",
    "      let task () =\n",
    "         let b = f a in\n",
    "         forever (fun () -> sync (send c b)) ()\n",
    "      in\n",
    "        ignore (Thread.create task ());\n",
    "        c\n",
    "    \n",
    "    let get c = sync (receive c)\n",
    "  end"
   ]
  },
  {
   "cell_type": "code",
   "execution_count": null,
   "metadata": {},
   "outputs": [],
   "source": []
  },
  {
   "cell_type": "markdown",
   "metadata": {},
   "source": [
    "Dieses Modul können wir jetzt folgendermaßen verwenden:"
   ]
  },
  {
   "cell_type": "code",
   "execution_count": 29,
   "metadata": {},
   "outputs": [
    {
     "data": {
      "text/plain": [
       "val f : int Future.t = <abstr>\n"
      ]
     },
     "execution_count": 29,
     "metadata": {},
     "output_type": "execute_result"
    }
   ],
   "source": [
    "let f = Future.create (fun x -> Thread.delay 10.; 2 * x) 4"
   ]
  },
  {
   "cell_type": "code",
   "execution_count": 30,
   "metadata": {},
   "outputs": [
    {
     "data": {
      "text/plain": [
       "- : int = 8\n"
      ]
     },
     "execution_count": 30,
     "metadata": {},
     "output_type": "execute_result"
    }
   ],
   "source": [
    "Future.get f"
   ]
  },
  {
   "cell_type": "code",
   "execution_count": 31,
   "metadata": {},
   "outputs": [
    {
     "data": {
      "text/plain": [
       "- : int = 8\n"
      ]
     },
     "execution_count": 31,
     "metadata": {},
     "output_type": "execute_result"
    }
   ],
   "source": [
    "Future.get f"
   ]
  },
  {
   "cell_type": "code",
   "execution_count": null,
   "metadata": {},
   "outputs": [],
   "source": []
  },
  {
   "cell_type": "code",
   "execution_count": null,
   "metadata": {},
   "outputs": [],
   "source": []
  },
  {
   "cell_type": "code",
   "execution_count": null,
   "metadata": {},
   "outputs": [],
   "source": []
  },
  {
   "cell_type": "markdown",
   "metadata": {},
   "source": [
    "## Aufgabe 14.2 (P) Parallel map"
   ]
  },
  {
   "cell_type": "code",
   "execution_count": 32,
   "metadata": {},
   "outputs": [
    {
     "data": {
      "text/plain": [
       "val comp2 : ('a -> 'a -> 'b) -> ('c -> 'a) -> 'c -> 'c -> 'b = <fun>\n"
      ]
     },
     "execution_count": 32,
     "metadata": {},
     "output_type": "execute_result"
    },
    {
     "data": {
      "text/plain": [
       "val compareBy : ('a -> 'b) -> 'a -> 'a -> int = <fun>\n"
      ]
     },
     "execution_count": 32,
     "metadata": {},
     "output_type": "execute_result"
    }
   ],
   "source": [
    "let comp2 f g x y = f (g x) (g y)\n",
    "let compareBy f = comp2 compare f"
   ]
  },
  {
   "cell_type": "code",
   "execution_count": 33,
   "metadata": {},
   "outputs": [
    {
     "data": {
      "text/plain": [
       "module Parallel : sig val map : ('a -> 'b) -> 'a list -> 'b list end\n"
      ]
     },
     "execution_count": 33,
     "metadata": {},
     "output_type": "execute_result"
    }
   ],
   "source": [
    "module Parallel :\n",
    "  sig\n",
    "    val map : ('a -> 'b) -> 'a list -> 'b list\n",
    "  end\n",
    "  =\n",
    "  struct\n",
    "    let map f xs =\n",
    "      let t f x =\n",
    "        let c = Event.new_channel () in\n",
    "        let _ = Thread.create (fun x -> Event.(sync (send c (f x)))) x in\n",
    "        Event.receive c\n",
    "      in\n",
    "      let fs = List.mapi (fun i x -> Event.wrap (t f x) (fun y -> i,y)) xs in\n",
    "      (* call select for each element... *)\n",
    "      let ys = List.map (fun _ -> Event.select fs) fs in\n",
    "      List.sort (compareBy fst) ys |> List.map snd\n",
    "  end"
   ]
  },
  {
   "cell_type": "code",
   "execution_count": null,
   "metadata": {},
   "outputs": [],
   "source": []
  },
  {
   "cell_type": "code",
   "execution_count": null,
   "metadata": {},
   "outputs": [],
   "source": []
  },
  {
   "cell_type": "code",
   "execution_count": null,
   "metadata": {},
   "outputs": [],
   "source": []
  },
  {
   "cell_type": "markdown",
   "metadata": {},
   "source": [
    "## Aufgabe 14.3 (P) Server"
   ]
  },
  {
   "cell_type": "code",
   "execution_count": null,
   "metadata": {},
   "outputs": [],
   "source": []
  },
  {
   "cell_type": "code",
   "execution_count": 34,
   "metadata": {},
   "outputs": [
    {
     "data": {
      "text/plain": [
       "module Server :\n",
       "  sig\n",
       "    type ('a, 'b) t\n",
       "    val serve : ('a -> 'b) -> ('a, 'b) t\n",
       "    val request : ('a, 'b) t -> 'a -> 'b\n",
       "  end\n"
      ]
     },
     "execution_count": 34,
     "metadata": {},
     "output_type": "execute_result"
    }
   ],
   "source": [
    "module Server :\n",
    "  sig\n",
    "    type ('a, 'b) t\n",
    "    val serve : ('a -> 'b) -> ('a, 'b) t\n",
    "    val request : ('a, 'b) t -> 'a -> 'b\n",
    "  end\n",
    "  =\n",
    "  struct\n",
    "    open Event\n",
    "  \n",
    "    type ('a, 'b) t = ('a * 'b channel) channel\n",
    "    \n",
    "    let serve f =\n",
    "      let s = new_channel () in\n",
    "      let task () =\n",
    "        let (a, r) = sync (receive s) in\n",
    "        ignore (Thread.create (fun () -> sync (send r (f a))) ())\n",
    "      in\n",
    "        ignore (forever task ());\n",
    "        s\n",
    "    \n",
    "    let request s a =\n",
    "      let r = new_channel () in\n",
    "        sync (send s (a, r));\n",
    "        sync (receive r)\n",
    "\n",
    "  end"
   ]
  },
  {
   "cell_type": "code",
   "execution_count": null,
   "metadata": {},
   "outputs": [],
   "source": []
  },
  {
   "cell_type": "markdown",
   "metadata": {},
   "source": [
    "Jetzt können wir einen Server starten und dann Anfragen an ihn stellen. Unser Server soll die Ackermannfunktion berechnen."
   ]
  },
  {
   "cell_type": "code",
   "execution_count": 35,
   "metadata": {},
   "outputs": [
    {
     "data": {
      "text/plain": [
       "val ackermann : int * int -> int = <fun>\n"
      ]
     },
     "execution_count": 35,
     "metadata": {},
     "output_type": "execute_result"
    }
   ],
   "source": [
    "let rec ackermann = function\n",
    "    (0, m) -> m + 1\n",
    "  | (n, 0) -> ackermann (n - 1, 1)\n",
    "  | (n, m) -> ackermann (n - 1, ackermann (n, m - 1))"
   ]
  },
  {
   "cell_type": "code",
   "execution_count": null,
   "metadata": {},
   "outputs": [],
   "source": []
  },
  {
   "cell_type": "code",
   "execution_count": 36,
   "metadata": {},
   "outputs": [
    {
     "data": {
      "text/plain": [
       "val server : (int * int, int) Server.t = <abstr>\n"
      ]
     },
     "execution_count": 36,
     "metadata": {},
     "output_type": "execute_result"
    }
   ],
   "source": [
    "let server = Server.serve ackermann"
   ]
  },
  {
   "cell_type": "code",
   "execution_count": 37,
   "metadata": {},
   "outputs": [
    {
     "data": {
      "text/plain": [
       "- : int = 4\n"
      ]
     },
     "execution_count": 37,
     "metadata": {},
     "output_type": "execute_result"
    }
   ],
   "source": [
    "Server.request server (1, 2)"
   ]
  },
  {
   "cell_type": "code",
   "execution_count": 38,
   "metadata": {},
   "outputs": [
    {
     "data": {
      "text/plain": [
       "- : int = 2\n"
      ]
     },
     "execution_count": 38,
     "metadata": {},
     "output_type": "execute_result"
    }
   ],
   "source": [
    "Server.request server (0, 1)"
   ]
  },
  {
   "cell_type": "code",
   "execution_count": null,
   "metadata": {},
   "outputs": [],
   "source": []
  },
  {
   "cell_type": "code",
   "execution_count": null,
   "metadata": {},
   "outputs": [],
   "source": []
  }
 ],
 "metadata": {
  "kernelspec": {
   "display_name": "OCaml 4.04.2",
   "language": "OCaml",
   "name": "ocaml-jupyter"
  },
  "language_info": {
   "codemirror_mode": "text/x-ocaml",
   "file_extension": ".ml",
   "mimetype": "text/x-ocaml",
   "name": "OCaml",
   "nbconverter_exporter": null,
   "pygments_lexer": "OCaml",
   "version": "4.04.2"
  }
 },
 "nbformat": 4,
 "nbformat_minor": 2
}
