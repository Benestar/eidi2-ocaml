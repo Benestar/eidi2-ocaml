{
 "cells": [
  {
   "cell_type": "markdown",
   "metadata": {},
   "source": [
    "# Übungsblatt 14"
   ]
  },
  {
   "cell_type": "markdown",
   "metadata": {},
   "source": [
    "**Lernziele**\n",
    "\n",
    "In den Übungen dieser Wochen lernen Sie:\n",
    "* Nebenläufiges Programmieren mit den Modulen `Thread` und `Event`.\n",
    "* Kanäle zur Kommunikation zwischen Threads einzusetzen.\n",
    "* Einfache Algorithmen zu Parallelisieren."
   ]
  },
  {
   "cell_type": "code",
   "execution_count": null,
   "metadata": {},
   "outputs": [],
   "source": []
  },
  {
   "cell_type": "markdown",
   "metadata": {},
   "source": [
    "### Threads"
   ]
  },
  {
   "cell_type": "markdown",
   "metadata": {},
   "source": [
    "In utop können Threads mit `utop -I +threads` verwendet werden. Dann muss noch einmal `#thread;;` eingegeben werden."
   ]
  },
  {
   "cell_type": "code",
   "execution_count": null,
   "metadata": {},
   "outputs": [],
   "source": [
    "#thread;;"
   ]
  },
  {
   "cell_type": "code",
   "execution_count": null,
   "metadata": {},
   "outputs": [],
   "source": []
  },
  {
   "cell_type": "markdown",
   "metadata": {},
   "source": [
    "Hierdurch erhalten wir das `Thread` Modul, welches uns alle nötigen Funktionen im Umgang mit Threads zur Verfügung stellt. Im Folgenden stehen die wichtigsten Funktionen, die wir für benötigen."
   ]
  },
  {
   "cell_type": "code",
   "execution_count": null,
   "metadata": {},
   "outputs": [],
   "source": [
    "Thread.create                           (* Erstellt einen neuen Thread *)"
   ]
  },
  {
   "cell_type": "code",
   "execution_count": null,
   "metadata": {},
   "outputs": [],
   "source": [
    "Thread.join                             (* Joint dem gegebenen Thread *)"
   ]
  },
  {
   "cell_type": "code",
   "execution_count": null,
   "metadata": {},
   "outputs": [],
   "source": [
    "Thread.self                             (* Gibt den aktuellen Thread zurück *)"
   ]
  },
  {
   "cell_type": "code",
   "execution_count": null,
   "metadata": {},
   "outputs": [],
   "source": [
    "Thread.id                               (* Wandelt einen Thread ID in einen Integer um *)"
   ]
  },
  {
   "cell_type": "code",
   "execution_count": null,
   "metadata": {},
   "outputs": [],
   "source": [
    "Thread.delay                            (* Wartet die gegebene Anzahl Sekunden *)"
   ]
  },
  {
   "cell_type": "code",
   "execution_count": null,
   "metadata": {},
   "outputs": [],
   "source": []
  },
  {
   "cell_type": "markdown",
   "metadata": {},
   "source": [
    "Hiermit lässt sich ein einfaches Beispiel konstruieren."
   ]
  },
  {
   "cell_type": "code",
   "execution_count": null,
   "metadata": {},
   "outputs": [],
   "source": [
    "let print_thread msg =\n",
    "  let thread_id = Thread.(id (self ())) in\n",
    "    Printf.printf \"Thread %d: %s\\n%!\" thread_id msg"
   ]
  },
  {
   "cell_type": "code",
   "execution_count": null,
   "metadata": {},
   "outputs": [],
   "source": [
    "let create_thread () =\n",
    "  let f () = Thread.delay (Random.float 1.); print_thread \"Hallo :)\" in\n",
    "    Thread.create f ()"
   ]
  },
  {
   "cell_type": "markdown",
   "metadata": {},
   "source": [
    "Die `create_thread` Methode erstellt einen Thread, der nach einem zufälligen Zeitintervall die Methode `print_hello` aufruft, welche die ID des aktuellen Threads ausgibt. Wir erzeugen nun zwei Threads und nachdem diese terminiert sind, rufen wir `print_hello` noch aus dem Hauptthread auf."
   ]
  },
  {
   "cell_type": "code",
   "execution_count": null,
   "metadata": {},
   "outputs": [],
   "source": [
    "let () =\n",
    "  let t1 = create_thread () in\n",
    "  let t2 = create_thread () in\n",
    "    Thread.join t1;\n",
    "    Thread.join t2;\n",
    "    print_thread \"Main thread\""
   ]
  },
  {
   "cell_type": "code",
   "execution_count": null,
   "metadata": {},
   "outputs": [],
   "source": []
  },
  {
   "cell_type": "markdown",
   "metadata": {},
   "source": [
    "### Channels"
   ]
  },
  {
   "cell_type": "markdown",
   "metadata": {},
   "source": [
    "Die Kommunikation zwischen verschiedenen Threads kann über sogenannte Channels erfolgen. In dem `Event` Modul finden wir die zugehörigen Typen und Methoden."
   ]
  },
  {
   "cell_type": "code",
   "execution_count": null,
   "metadata": {},
   "outputs": [],
   "source": [
    "Event.new_channel                       (* Erzeugt einen neuen Channel *)"
   ]
  },
  {
   "cell_type": "code",
   "execution_count": null,
   "metadata": {},
   "outputs": [],
   "source": [
    "Event.send                              (* Schickt den gegebenen Wert über den Channel (non-blocking) *)"
   ]
  },
  {
   "cell_type": "code",
   "execution_count": null,
   "metadata": {},
   "outputs": [],
   "source": [
    "Event.receive                           (* Empfängt ein Event vom Channel (non-blocking) *)"
   ]
  },
  {
   "cell_type": "code",
   "execution_count": null,
   "metadata": {},
   "outputs": [],
   "source": [
    "Event.sync                              (* Wandelt ein Event in einen tatsächlichen Wert um (blocking) *)"
   ]
  },
  {
   "cell_type": "code",
   "execution_count": null,
   "metadata": {},
   "outputs": [],
   "source": []
  },
  {
   "cell_type": "markdown",
   "metadata": {},
   "source": [
    "Es gibt noch weitere fortgeschrittene Funktionen im Event Modul, die eventuell benötigt werden, wenn mehrere Events verarbeitet werden sollen."
   ]
  },
  {
   "cell_type": "code",
   "execution_count": null,
   "metadata": {},
   "outputs": [],
   "source": [
    "Event.wrap                              (* Wendet eine Funktion auf die Werte im Event an *)"
   ]
  },
  {
   "cell_type": "code",
   "execution_count": null,
   "metadata": {},
   "outputs": [],
   "source": [
    "Event.choose                            (* Wählt ein Event aus der Event-Liste aus (non-blocking) *)"
   ]
  },
  {
   "cell_type": "code",
   "execution_count": null,
   "metadata": {},
   "outputs": [],
   "source": [
    "Event.select                            (* Wählt ein Event aus und synchronisiert direkt (blocking) *)"
   ]
  },
  {
   "cell_type": "code",
   "execution_count": null,
   "metadata": {},
   "outputs": [],
   "source": []
  },
  {
   "cell_type": "markdown",
   "metadata": {},
   "source": [
    "Im Folgenden wieder ein Beispiel zu Channels."
   ]
  },
  {
   "cell_type": "code",
   "execution_count": null,
   "metadata": {},
   "outputs": [],
   "source": [
    "let channel = Event.new_channel ()"
   ]
  },
  {
   "cell_type": "code",
   "execution_count": null,
   "metadata": {},
   "outputs": [],
   "source": [
    "let send_string x =\n",
    "  let f () =\n",
    "    print_thread \"sending to channel ...\";\n",
    "    Event.(sync (send channel x));\n",
    "    print_thread (\"sent '\" ^ x ^ \"' to channel\")\n",
    "  in\n",
    "    Thread.create f ()"
   ]
  },
  {
   "cell_type": "code",
   "execution_count": null,
   "metadata": {},
   "outputs": [],
   "source": [
    "let receive_string () =\n",
    "  let f () =\n",
    "    print_thread \"receiving from channel ...\";\n",
    "    let x = Event.(sync (receive channel)) in\n",
    "    print_thread (\"received '\" ^ x ^ \"' from channel\")\n",
    "  in\n",
    "    Thread.create f ()"
   ]
  },
  {
   "cell_type": "code",
   "execution_count": null,
   "metadata": {},
   "outputs": [],
   "source": []
  },
  {
   "cell_type": "markdown",
   "metadata": {},
   "source": [
    "Die Methoden zum Lesen und Schreiben der Channels können wir jetzt verwenden."
   ]
  },
  {
   "cell_type": "code",
   "execution_count": null,
   "metadata": {},
   "outputs": [],
   "source": [
    "send_string \"abc\""
   ]
  },
  {
   "cell_type": "code",
   "execution_count": null,
   "metadata": {},
   "outputs": [],
   "source": [
    "send_string \"def\""
   ]
  },
  {
   "cell_type": "code",
   "execution_count": null,
   "metadata": {},
   "outputs": [],
   "source": [
    "receive_string ()"
   ]
  },
  {
   "cell_type": "code",
   "execution_count": null,
   "metadata": {},
   "outputs": [],
   "source": [
    "receive_string ()"
   ]
  },
  {
   "cell_type": "code",
   "execution_count": null,
   "metadata": {},
   "outputs": [],
   "source": [
    "receive_string ()"
   ]
  },
  {
   "cell_type": "code",
   "execution_count": null,
   "metadata": {},
   "outputs": [],
   "source": [
    "send_string \"ghi\""
   ]
  },
  {
   "cell_type": "code",
   "execution_count": null,
   "metadata": {},
   "outputs": [],
   "source": []
  },
  {
   "cell_type": "code",
   "execution_count": null,
   "metadata": {},
   "outputs": [],
   "source": []
  },
  {
   "cell_type": "code",
   "execution_count": null,
   "metadata": {},
   "outputs": [],
   "source": []
  },
  {
   "cell_type": "markdown",
   "metadata": {},
   "source": [
    "## Aufgabe 14.1 (P) Future"
   ]
  },
  {
   "cell_type": "markdown",
   "metadata": {},
   "source": [
    "Als vordefinierte Hilfsfunktion verwenden wir `forever` aus den Folien. Diese Methode bekommt eine Funktion `f` übergeben, die in einem separatem Thread durchgängig ausgeführt wird."
   ]
  },
  {
   "cell_type": "code",
   "execution_count": null,
   "metadata": {},
   "outputs": [],
   "source": [
    "let forever f init =\n",
    "  let rec loop x = loop (f x) in\n",
    "    Thread.create loop init"
   ]
  },
  {
   "cell_type": "code",
   "execution_count": null,
   "metadata": {},
   "outputs": [],
   "source": [
    "(* let t = forever (fun () -> Thread.delay 1.; Printf.printf \"Hallo\\n%!\") () *)"
   ]
  },
  {
   "cell_type": "code",
   "execution_count": null,
   "metadata": {},
   "outputs": [],
   "source": [
    " "
   ]
  },
  {
   "cell_type": "code",
   "execution_count": null,
   "metadata": {},
   "outputs": [],
   "source": [
    "module Future :\n",
    "  sig\n",
    "    type 'a t\n",
    "    val create : ('a -> 'b) -> 'a -> 'b t\n",
    "    val get : 'a t -> 'a\n",
    "  end\n",
    "  =\n",
    "  struct\n",
    "    type 'a t = unit\n",
    "    \n",
    "    let create f a = failwith \"TODO\"\n",
    "    \n",
    "    let get c = failwith \"TODO\"\n",
    "  end"
   ]
  },
  {
   "cell_type": "code",
   "execution_count": null,
   "metadata": {},
   "outputs": [],
   "source": []
  },
  {
   "cell_type": "code",
   "execution_count": null,
   "metadata": {},
   "outputs": [],
   "source": []
  },
  {
   "cell_type": "code",
   "execution_count": null,
   "metadata": {},
   "outputs": [],
   "source": []
  },
  {
   "cell_type": "markdown",
   "metadata": {},
   "source": [
    "## Aufgabe 14.2 (P) Parallel map"
   ]
  },
  {
   "cell_type": "code",
   "execution_count": null,
   "metadata": {},
   "outputs": [],
   "source": []
  },
  {
   "cell_type": "code",
   "execution_count": null,
   "metadata": {},
   "outputs": [],
   "source": [
    "module Parallel :\n",
    "  sig\n",
    "    val map : ('a -> 'b) -> 'a list -> 'b list\n",
    "  end\n",
    "  =\n",
    "  struct\n",
    "    let map f xs = failwith \"TODO\"\n",
    "  end"
   ]
  },
  {
   "cell_type": "code",
   "execution_count": null,
   "metadata": {},
   "outputs": [],
   "source": []
  },
  {
   "cell_type": "code",
   "execution_count": null,
   "metadata": {},
   "outputs": [],
   "source": []
  },
  {
   "cell_type": "markdown",
   "metadata": {},
   "source": [
    "## Aufgabe 14.3 (P) Server"
   ]
  },
  {
   "cell_type": "code",
   "execution_count": null,
   "metadata": {},
   "outputs": [],
   "source": []
  },
  {
   "cell_type": "code",
   "execution_count": null,
   "metadata": {},
   "outputs": [],
   "source": [
    "module Server :\n",
    "  sig\n",
    "    type ('a, 'b) t\n",
    "    val serve : ('a -> 'b) -> ('a, 'b) t\n",
    "    val request : ('a, 'b) t -> 'a -> 'b\n",
    "  end\n",
    "  =\n",
    "  struct\n",
    "    type ('a, 'b) t = unit\n",
    "    \n",
    "    let serve f = failwith \"TODO\"\n",
    "    \n",
    "    let request s a = failwith \"TODO\"\n",
    "  end"
   ]
  },
  {
   "cell_type": "code",
   "execution_count": null,
   "metadata": {},
   "outputs": [],
   "source": []
  },
  {
   "cell_type": "code",
   "execution_count": null,
   "metadata": {},
   "outputs": [],
   "source": []
  },
  {
   "cell_type": "code",
   "execution_count": null,
   "metadata": {},
   "outputs": [],
   "source": []
  }
 ],
 "metadata": {
  "kernelspec": {
   "display_name": "OCaml 4.04.2",
   "language": "OCaml",
   "name": "ocaml-jupyter"
  },
  "language_info": {
   "codemirror_mode": "text/x-ocaml",
   "file_extension": ".ml",
   "mimetype": "text/x-ocaml",
   "name": "OCaml",
   "nbconverter_exporter": null,
   "pygments_lexer": "OCaml",
   "version": "4.04.2"
  }
 },
 "nbformat": 4,
 "nbformat_minor": 2
}
