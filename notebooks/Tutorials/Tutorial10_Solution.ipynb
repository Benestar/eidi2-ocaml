{
 "cells": [
  {
   "cell_type": "markdown",
   "metadata": {},
   "source": [
    "# Übungsblatt 10"
   ]
  },
  {
   "cell_type": "markdown",
   "metadata": {},
   "source": [
    "**Lernziele**\n",
    "\n",
    "In den Übungen dieser Wochen lernen Sie:\n",
    "\n",
    "* Den Zweck von Modulen und Signaturen zu beschreiben.\n",
    "* Eigene Signaturen und Module zu definieren.\n",
    "* Module zu einer gegebenen Signatur zu implementieren.\n",
    "* Die verschiedenen Arten zu beschreiben, auf die ein Modul eingebunden werden kann.\n",
    "* Eigene Funktoren zu definieren.\n",
    "* Funktoren zur Erweiterung anderer Module zu nutzen."
   ]
  },
  {
   "cell_type": "markdown",
   "metadata": {},
   "source": [
    "## Aufgabe 10.1 (P) Module und Funktoren"
   ]
  },
  {
   "cell_type": "markdown",
   "metadata": {},
   "source": [
    "Was ist ein Modul und was können Module beinhalten?"
   ]
  },
  {
   "cell_type": "code",
   "execution_count": 1,
   "metadata": {},
   "outputs": [
    {
     "data": {
      "text/plain": [
       "module MeinModul :\n",
       "  sig\n",
       "    val a : int\n",
       "    val b : int\n",
       "    val f : int -> int\n",
       "    type tree = Leaf | Node of int * tree * tree\n",
       "    val baum : tree\n",
       "    module InneresModul : sig val c : int val g : int -> int end\n",
       "  end\n"
      ]
     },
     "execution_count": 1,
     "metadata": {},
     "output_type": "execute_result"
    }
   ],
   "source": [
    "module MeinModul =\n",
    "  struct\n",
    "    let a = 5\n",
    "    let b = 7\n",
    "    let f x = x * a\n",
    "    \n",
    "    type tree = Leaf | Node of int * tree * tree\n",
    "    let baum = Leaf\n",
    "    \n",
    "    module InneresModul =\n",
    "      struct\n",
    "        let c = 15\n",
    "        let g x = x * b\n",
    "      end\n",
    "  end"
   ]
  },
  {
   "cell_type": "code",
   "execution_count": 2,
   "metadata": {},
   "outputs": [
    {
     "data": {
      "text/plain": [
       "- : int = 5\n"
      ]
     },
     "execution_count": 2,
     "metadata": {},
     "output_type": "execute_result"
    }
   ],
   "source": [
    "MeinModul.a"
   ]
  },
  {
   "cell_type": "code",
   "execution_count": 3,
   "metadata": {},
   "outputs": [
    {
     "data": {
      "text/plain": [
       "- : int = 25\n"
      ]
     },
     "execution_count": 3,
     "metadata": {},
     "output_type": "execute_result"
    }
   ],
   "source": [
    "MeinModul.f 5"
   ]
  },
  {
   "cell_type": "code",
   "execution_count": 4,
   "metadata": {},
   "outputs": [
    {
     "data": {
      "text/plain": [
       "- : MeinModul.tree = MeinModul.Leaf\n"
      ]
     },
     "execution_count": 4,
     "metadata": {},
     "output_type": "execute_result"
    }
   ],
   "source": [
    "MeinModul.Leaf"
   ]
  },
  {
   "cell_type": "code",
   "execution_count": 5,
   "metadata": {},
   "outputs": [
    {
     "data": {
      "text/plain": [
       "- : int = 15\n"
      ]
     },
     "execution_count": 5,
     "metadata": {},
     "output_type": "execute_result"
    }
   ],
   "source": [
    "MeinModul.InneresModul.c"
   ]
  },
  {
   "cell_type": "code",
   "execution_count": 6,
   "metadata": {},
   "outputs": [
    {
     "data": {
      "text/plain": [
       "- : int = 14\n"
      ]
     },
     "execution_count": 6,
     "metadata": {},
     "output_type": "execute_result"
    }
   ],
   "source": [
    "MeinModul.InneresModul.g 2"
   ]
  },
  {
   "cell_type": "code",
   "execution_count": null,
   "metadata": {},
   "outputs": [],
   "source": []
  },
  {
   "cell_type": "markdown",
   "metadata": {},
   "source": [
    "Welchen Effekt hat die Angabe einer Signatur?"
   ]
  },
  {
   "cell_type": "code",
   "execution_count": 7,
   "metadata": {},
   "outputs": [
    {
     "data": {
      "text/plain": [
       "module type MeineSignatur =\n",
       "  sig\n",
       "    val a : int\n",
       "    val f : int -> int\n",
       "    type tree\n",
       "    val baum : tree\n",
       "    module InneresModul : sig val g : int -> int end\n",
       "  end\n"
      ]
     },
     "execution_count": 7,
     "metadata": {},
     "output_type": "execute_result"
    }
   ],
   "source": [
    "module type MeineSignatur =\n",
    "  sig\n",
    "    val a : int\n",
    "    val f : int -> int\n",
    "    \n",
    "    type tree\n",
    "    val baum : tree\n",
    "    \n",
    "    module InneresModul :\n",
    "      sig\n",
    "        val g : int -> int\n",
    "      end\n",
    "  end"
   ]
  },
  {
   "cell_type": "code",
   "execution_count": 8,
   "metadata": {},
   "outputs": [
    {
     "data": {
      "text/plain": [
       "module MeinModul : MeineSignatur\n"
      ]
     },
     "execution_count": 8,
     "metadata": {},
     "output_type": "execute_result"
    }
   ],
   "source": [
    "module MeinModul : MeineSignatur =\n",
    "  struct\n",
    "    let a = 5\n",
    "    let b = 7\n",
    "    let f x = x * a\n",
    "    \n",
    "    type tree = Leaf | Node of int * tree * tree\n",
    "    let baum = Leaf\n",
    "    \n",
    "    module InneresModul =\n",
    "      struct\n",
    "        let c = 15\n",
    "        let g x = x * b\n",
    "      end\n",
    "  end"
   ]
  },
  {
   "cell_type": "code",
   "execution_count": 9,
   "metadata": {},
   "outputs": [
    {
     "data": {
      "text/plain": [
       "- : int = 5\n"
      ]
     },
     "execution_count": 9,
     "metadata": {},
     "output_type": "execute_result"
    }
   ],
   "source": [
    "MeinModul.a"
   ]
  },
  {
   "cell_type": "code",
   "execution_count": 10,
   "metadata": {},
   "outputs": [
    {
     "ename": "error",
     "evalue": "error",
     "output_type": "error",
     "traceback": [
      "\u001b[31mFile \"[10]\", line 1, characters 0-11:\nError: Unbound value MeinModul.b\nCharacters 0-11:\n  MeinModul.b\n  ^^^^^^^^^^^\n\u001b[0m"
     ]
    }
   ],
   "source": [
    "MeinModul.b"
   ]
  },
  {
   "cell_type": "code",
   "execution_count": 11,
   "metadata": {},
   "outputs": [
    {
     "ename": "error",
     "evalue": "error",
     "output_type": "error",
     "traceback": [
      "\u001b[31mFile \"[11]\", line 1, characters 0-14:\nError: Unbound constructor MeinModul.Leaf\nCharacters 0-14:\n  MeinModul.Leaf\n  ^^^^^^^^^^^^^^\n\u001b[0m"
     ]
    }
   ],
   "source": [
    "MeinModul.Leaf"
   ]
  },
  {
   "cell_type": "code",
   "execution_count": 12,
   "metadata": {},
   "outputs": [
    {
     "data": {
      "text/plain": [
       "- : MeinModul.tree = <abstr>\n"
      ]
     },
     "execution_count": 12,
     "metadata": {},
     "output_type": "execute_result"
    }
   ],
   "source": [
    "MeinModul.baum"
   ]
  },
  {
   "cell_type": "code",
   "execution_count": 13,
   "metadata": {},
   "outputs": [
    {
     "ename": "error",
     "evalue": "error",
     "output_type": "error",
     "traceback": [
      "\u001b[31mFile \"[13]\", line 1, characters 0-24:\nError: Unbound value MeinModul.InneresModul.c\nCharacters 0-24:\n  MeinModul.InneresModul.c\n  ^^^^^^^^^^^^^^^^^^^^^^^^\n\u001b[0m"
     ]
    }
   ],
   "source": [
    "MeinModul.InneresModul.c"
   ]
  },
  {
   "cell_type": "code",
   "execution_count": 14,
   "metadata": {},
   "outputs": [
    {
     "data": {
      "text/plain": [
       "- : int = 14\n"
      ]
     },
     "execution_count": 14,
     "metadata": {},
     "output_type": "execute_result"
    }
   ],
   "source": [
    "MeinModul.InneresModul.g 2"
   ]
  },
  {
   "cell_type": "code",
   "execution_count": null,
   "metadata": {},
   "outputs": [],
   "source": []
  },
  {
   "cell_type": "code",
   "execution_count": null,
   "metadata": {},
   "outputs": [],
   "source": []
  },
  {
   "cell_type": "code",
   "execution_count": null,
   "metadata": {},
   "outputs": [],
   "source": []
  },
  {
   "cell_type": "markdown",
   "metadata": {},
   "source": [
    "Was ist ein Funktor? Welches Problem lässt sich damit lösen?"
   ]
  },
  {
   "cell_type": "code",
   "execution_count": 15,
   "metadata": {},
   "outputs": [
    {
     "data": {
      "text/plain": [
       "val f : int -> int = <fun>\n"
      ]
     },
     "execution_count": 15,
     "metadata": {},
     "output_type": "execute_result"
    },
    {
     "data": {
      "text/plain": [
       "val f : int -> int = <fun>\n"
      ]
     },
     "execution_count": 15,
     "metadata": {},
     "output_type": "execute_result"
    }
   ],
   "source": [
    "(* Bei Funktionen: *)\n",
    "let f x = 2 * x\n",
    "let f = fun x -> 2 * x"
   ]
  },
  {
   "cell_type": "code",
   "execution_count": 16,
   "metadata": {},
   "outputs": [
    {
     "data": {
      "text/plain": [
       "module type S = sig  end\n"
      ]
     },
     "execution_count": 16,
     "metadata": {},
     "output_type": "execute_result"
    },
    {
     "data": {
      "text/plain": [
       "module M : functor (X : S) -> sig  end\n"
      ]
     },
     "execution_count": 16,
     "metadata": {},
     "output_type": "execute_result"
    },
    {
     "data": {
      "text/plain": [
       "module M : functor (X : S) -> sig  end\n"
      ]
     },
     "execution_count": 16,
     "metadata": {},
     "output_type": "execute_result"
    }
   ],
   "source": [
    "(* Bei Funktoren: *)\n",
    "module type S = sig end\n",
    "module M (X : S) = struct end\n",
    "module M = functor (X : S) -> struct end"
   ]
  },
  {
   "cell_type": "code",
   "execution_count": null,
   "metadata": {},
   "outputs": [],
   "source": []
  },
  {
   "cell_type": "code",
   "execution_count": null,
   "metadata": {},
   "outputs": [],
   "source": []
  },
  {
   "cell_type": "code",
   "execution_count": null,
   "metadata": {},
   "outputs": [],
   "source": []
  },
  {
   "cell_type": "code",
   "execution_count": null,
   "metadata": {},
   "outputs": [],
   "source": []
  },
  {
   "cell_type": "code",
   "execution_count": null,
   "metadata": {},
   "outputs": [],
   "source": []
  },
  {
   "cell_type": "markdown",
   "metadata": {},
   "source": [
    "Was ist der Unterschied zwischen `open` und `include`?"
   ]
  },
  {
   "cell_type": "code",
   "execution_count": 17,
   "metadata": {},
   "outputs": [
    {
     "data": {
      "text/plain": [
       "module AnderesModul : sig val d : int end\n"
      ]
     },
     "execution_count": 17,
     "metadata": {},
     "output_type": "execute_result"
    }
   ],
   "source": [
    "module AnderesModul =\n",
    "  struct\n",
    "    open MeinModul\n",
    "    \n",
    "    let d = a\n",
    "  end"
   ]
  },
  {
   "cell_type": "code",
   "execution_count": 18,
   "metadata": {},
   "outputs": [
    {
     "data": {
      "text/plain": [
       "- : int = 5\n"
      ]
     },
     "execution_count": 18,
     "metadata": {},
     "output_type": "execute_result"
    }
   ],
   "source": [
    "AnderesModul.d"
   ]
  },
  {
   "cell_type": "code",
   "execution_count": 19,
   "metadata": {},
   "outputs": [
    {
     "ename": "error",
     "evalue": "error",
     "output_type": "error",
     "traceback": [
      "\u001b[31mFile \"[19]\", line 1, characters 0-14:\nError: Unbound value AnderesModul.a\nCharacters 0-14:\n  AnderesModul.a\n  ^^^^^^^^^^^^^^\n\u001b[0m"
     ]
    }
   ],
   "source": [
    "AnderesModul.a"
   ]
  },
  {
   "cell_type": "code",
   "execution_count": 20,
   "metadata": {},
   "outputs": [
    {
     "data": {
      "text/plain": [
       "module NochEinModul :\n",
       "  sig\n",
       "    val a : int\n",
       "    val f : int -> int\n",
       "    type tree = MeinModul.tree\n",
       "    val baum : tree\n",
       "    module InneresModul = MeinModul.InneresModul\n",
       "    val d : int\n",
       "  end\n"
      ]
     },
     "execution_count": 20,
     "metadata": {},
     "output_type": "execute_result"
    }
   ],
   "source": [
    "module NochEinModul =\n",
    "  struct\n",
    "    include MeinModul\n",
    "    \n",
    "    let d = a\n",
    "  end"
   ]
  },
  {
   "cell_type": "code",
   "execution_count": 21,
   "metadata": {},
   "outputs": [
    {
     "data": {
      "text/plain": [
       "- : int = 5\n"
      ]
     },
     "execution_count": 21,
     "metadata": {},
     "output_type": "execute_result"
    }
   ],
   "source": [
    "NochEinModul.d"
   ]
  },
  {
   "cell_type": "code",
   "execution_count": 22,
   "metadata": {},
   "outputs": [
    {
     "data": {
      "text/plain": [
       "- : int = 5\n"
      ]
     },
     "execution_count": 22,
     "metadata": {},
     "output_type": "execute_result"
    }
   ],
   "source": [
    "NochEinModul.a"
   ]
  },
  {
   "cell_type": "code",
   "execution_count": null,
   "metadata": {},
   "outputs": [],
   "source": []
  },
  {
   "cell_type": "code",
   "execution_count": null,
   "metadata": {},
   "outputs": [],
   "source": []
  },
  {
   "cell_type": "code",
   "execution_count": null,
   "metadata": {},
   "outputs": [],
   "source": []
  },
  {
   "cell_type": "markdown",
   "metadata": {},
   "source": [
    "## Aufgabe 10.2 (P) Extending Modules"
   ]
  },
  {
   "cell_type": "code",
   "execution_count": 23,
   "metadata": {},
   "outputs": [
    {
     "data": {
      "text/plain": [
       "module List :\n",
       "  sig\n",
       "    val length : 'a list -> int\n",
       "    val cons : 'a -> 'a list -> 'a list\n",
       "    val hd : 'a list -> 'a\n",
       "    val tl : 'a list -> 'a list\n",
       "    val nth : 'a list -> int -> 'a\n",
       "    val rev : 'a list -> 'a list\n",
       "    val append : 'a list -> 'a list -> 'a list\n",
       "    val rev_append : 'a list -> 'a list -> 'a list\n",
       "    val concat : 'a list list -> 'a list\n",
       "    val flatten : 'a list list -> 'a list\n",
       "    val iter : ('a -> unit) -> 'a list -> unit\n",
       "    val iteri : (int -> 'a -> unit) -> 'a list -> unit\n",
       "    val map : ('a -> 'b) -> 'a list -> 'b list\n",
       "    val mapi : (int -> 'a -> 'b) -> 'a list -> 'b list\n",
       "    val rev_map : ('a -> 'b) -> 'a list -> 'b list\n",
       "    val fold_left : ('a -> 'b -> 'a) -> 'a -> 'b list -> 'a\n",
       "    val fold_right : ('a -> 'b -> 'b) -> 'a list -> 'b -> 'b\n",
       "    val iter2 : ('a -> 'b -> unit) -> 'a list -> 'b list -> unit\n",
       "    val map2 : ('a -> 'b -> 'c) -> 'a list -> 'b list -> 'c list\n",
       "    val rev_map2 : ('a -> 'b -> 'c) -> 'a list -> 'b list -> 'c list\n",
       "    val fold_left2 : ('a -> 'b -> 'c -> 'a) -> 'a -> 'b list -> 'c list -> 'a\n",
       "    val fold_right2 :\n",
       "      ('a -> 'b -> 'c -> 'c) -> 'a list -> 'b list -> 'c -> 'c\n",
       "    val for_all : ('a -> bool) -> 'a list -> bool\n",
       "    val exists : ('a -> bool) -> 'a list -> bool\n",
       "    val for_all2 : ('a -> 'b -> bool) -> 'a list -> 'b list -> bool\n",
       "    val exists2 : ('a -> 'b -> bool) -> 'a list -> 'b list -> bool\n",
       "    val mem : 'a -> 'a list -> bool\n",
       "    val memq : 'a -> 'a list -> bool\n",
       "    val find : ('a -> bool) -> 'a list -> 'a\n",
       "    val filter : ('a -> bool) -> 'a list -> 'a list\n",
       "    val find_all : ('a -> bool) -> 'a list -> 'a list\n",
       "    val partition : ('a -> bool) -> 'a list -> 'a list * 'a list\n",
       "    val assoc : 'a -> ('a * 'b) list -> 'b\n",
       "    val assq : 'a -> ('a * 'b) list -> 'b\n",
       "    val mem_assoc : 'a -> ('a * 'b) list -> bool\n",
       "    val mem_assq : 'a -> ('a * 'b) list -> bool\n",
       "    val remove_assoc : 'a -> ('a * 'b) list -> ('a * 'b) list\n",
       "    val remove_assq : 'a -> ('a * 'b) list -> ('a * 'b) list\n",
       "    val split : ('a * 'b) list -> 'a list * 'b list\n",
       "    val combine : 'a list -> 'b list -> ('a * 'b) list\n",
       "    val sort : ('a -> 'a -> int) -> 'a list -> 'a list\n",
       "    val stable_sort : ('a -> 'a -> int) -> 'a list -> 'a list\n",
       "    val fast_sort : ('a -> 'a -> int) -> 'a list -> 'a list\n",
       "    val sort_uniq : ('a -> 'a -> int) -> 'a list -> 'a list\n",
       "    val merge : ('a -> 'a -> int) -> 'a list -> 'a list -> 'a list\n",
       "    val assoc_opt : 'a -> ('a * 'b) list -> 'b option\n",
       "  end\n"
      ]
     },
     "execution_count": 23,
     "metadata": {},
     "output_type": "execute_result"
    }
   ],
   "source": [
    "module List =\n",
    "  struct\n",
    "    include List\n",
    "    \n",
    "    let assoc_opt a l =\n",
    "      if List.mem_assoc a l then\n",
    "        Some (List.assoc a l)\n",
    "      else\n",
    "        None\n",
    "  end"
   ]
  },
  {
   "cell_type": "code",
   "execution_count": null,
   "metadata": {},
   "outputs": [],
   "source": []
  },
  {
   "cell_type": "code",
   "execution_count": null,
   "metadata": {},
   "outputs": [],
   "source": []
  },
  {
   "cell_type": "code",
   "execution_count": null,
   "metadata": {},
   "outputs": [],
   "source": []
  },
  {
   "cell_type": "code",
   "execution_count": null,
   "metadata": {},
   "outputs": [],
   "source": []
  },
  {
   "cell_type": "markdown",
   "metadata": {},
   "source": [
    "## Aufgabe 10.3 (P) Noch mehr Maps"
   ]
  },
  {
   "cell_type": "markdown",
   "metadata": {},
   "source": [
    "Es sei die folgende Signatur gegeben, welche die grundlegende Funktionalität einer Abbildung definiert:"
   ]
  },
  {
   "cell_type": "code",
   "execution_count": 24,
   "metadata": {},
   "outputs": [
    {
     "data": {
      "text/plain": [
       "module type Map =\n",
       "  sig\n",
       "    type ('a, 'b) t\n",
       "    val empty : ('a, 'b) t\n",
       "    val set : 'a -> 'b -> ('a, 'b) t -> ('a, 'b) t\n",
       "    val get : 'a -> ('a, 'b) t -> 'b option\n",
       "    val remove : 'a -> ('a, 'b) t -> ('a, 'b) t\n",
       "    val keys : ('a, 'b) t -> 'a list\n",
       "  end\n"
      ]
     },
     "execution_count": 24,
     "metadata": {},
     "output_type": "execute_result"
    }
   ],
   "source": [
    "module type Map = sig\n",
    "  type ('a, 'b) t\n",
    "  val empty : ('a, 'b) t\n",
    "  val set : 'a -> 'b -> ('a, 'b) t -> ('a, 'b) t\n",
    "  val get : 'a -> ('a, 'b) t -> 'b option\n",
    "  val remove : 'a -> ('a, 'b) t -> ('a, 'b) t\n",
    "  val keys : ('a, 'b) t -> 'a list\n",
    "end"
   ]
  },
  {
   "cell_type": "markdown",
   "metadata": {},
   "source": [
    "1\\. Implementieren Sie ein Modul `ListMap`, das eine Abbildung mit Hilfe einer assoziativien Liste realisiert und die Signatur `Map` erfüllt."
   ]
  },
  {
   "cell_type": "code",
   "execution_count": null,
   "metadata": {},
   "outputs": [],
   "source": []
  },
  {
   "cell_type": "code",
   "execution_count": 25,
   "metadata": {},
   "outputs": [
    {
     "data": {
      "text/plain": [
       "module ListMap : Map\n"
      ]
     },
     "execution_count": 25,
     "metadata": {},
     "output_type": "execute_result"
    }
   ],
   "source": [
    "module ListMap : Map =\n",
    "  struct\n",
    "  \n",
    "    type ('a, 'b) t = ('a * 'b) list\n",
    "    \n",
    "    let empty = []\n",
    "    \n",
    "    let remove key list = List.remove_assoc key list\n",
    "    \n",
    "    let set key value list = (key, value) :: remove key list\n",
    "    \n",
    "    let get key list =\n",
    "      if List.mem_assoc key list then\n",
    "        Some (List.assoc key list)\n",
    "      else\n",
    "        None\n",
    "        \n",
    "    let keys list = fst (List.split list)\n",
    "  \n",
    "  end"
   ]
  },
  {
   "cell_type": "code",
   "execution_count": null,
   "metadata": {},
   "outputs": [],
   "source": []
  },
  {
   "cell_type": "code",
   "execution_count": null,
   "metadata": {},
   "outputs": [],
   "source": []
  },
  {
   "cell_type": "code",
   "execution_count": null,
   "metadata": {},
   "outputs": [],
   "source": []
  },
  {
   "cell_type": "markdown",
   "metadata": {},
   "source": [
    "2\\. Implementieren Sie ein Modul `TreeMap`, das eine Abbildung mit Hilfe eines binären Suchbaums realisiert und die Signatur `Map` erfüllt."
   ]
  },
  {
   "cell_type": "code",
   "execution_count": null,
   "metadata": {},
   "outputs": [],
   "source": []
  },
  {
   "cell_type": "code",
   "execution_count": 26,
   "metadata": {},
   "outputs": [
    {
     "data": {
      "text/plain": [
       "module TreeMap : Map\n"
      ]
     },
     "execution_count": 26,
     "metadata": {},
     "output_type": "execute_result"
    }
   ],
   "source": [
    "module TreeMap : Map =\n",
    "  struct\n",
    "\n",
    "    type ('a,'b) t = Leaf | Node of 'a * 'b * ('a, 'b) t * ('a, 'b) t\n",
    "\n",
    "    let empty = Leaf\n",
    "\n",
    "    let rec set k v = function\n",
    "      | Leaf -> Node (k, v, Leaf, Leaf)\n",
    "      | Node (k', v', l, r) ->\n",
    "          if k < k' then\n",
    "            Node (k', v', set k v l, r)\n",
    "          else if k > k' then\n",
    "            Node (k', v', l, set k v r)\n",
    "          else (* k = k' *)\n",
    "            Node (k', v, l, r)\n",
    "\n",
    "    let rec get k = function\n",
    "      | Leaf -> None\n",
    "      | Node (k', v', l, r) ->\n",
    "          if k < k' then\n",
    "            get k l\n",
    "          else if k > k' then\n",
    "            get k r\n",
    "          else (* k = k' *)\n",
    "            Some v'\n",
    "\n",
    "    let rec remove_max = function\n",
    "      | Leaf -> None\n",
    "      | Node (k, v, l, r) ->\n",
    "          match remove_max r with\n",
    "            | None -> Some (k, v, l)\n",
    "            | Some (max_k, max_v, new_r) ->\n",
    "                Some (max_k, max_v, Node (k, v, l, new_r))\n",
    "\n",
    "    let rec remove k = function\n",
    "      | Leaf -> Leaf\n",
    "      | Node (k', v', l, r) ->\n",
    "          if k < k' then\n",
    "            Node (k', v', remove k l, r)\n",
    "          else if k > k' then\n",
    "            Node (k', v', l, remove k r)\n",
    "          else (* k = k' *)\n",
    "            match remove_max l with\n",
    "              | None -> r\n",
    "              | Some (max_k, max_v, new_l) ->\n",
    "                  Node (max_k, max_v, new_l, r)\n",
    "\n",
    "    let keys m =\n",
    "      let rec impl acc = function\n",
    "        | Leaf -> acc\n",
    "        | Node (k, _, l, r) -> impl (k :: impl acc r) l\n",
    "      in\n",
    "        impl [] m\n",
    "\n",
    "  end"
   ]
  },
  {
   "cell_type": "code",
   "execution_count": null,
   "metadata": {},
   "outputs": [],
   "source": []
  },
  {
   "cell_type": "code",
   "execution_count": null,
   "metadata": {},
   "outputs": [],
   "source": []
  },
  {
   "cell_type": "code",
   "execution_count": null,
   "metadata": {},
   "outputs": [],
   "source": []
  },
  {
   "cell_type": "markdown",
   "metadata": {},
   "source": [
    "3\\. Implementieren Sie einen Funktor `ExtendMap`, der ein Modul der Signatur `Map` als Argument bekommt. Der Funktor soll alle Definitionen des Arguments, sowie zusätzlich die Funktionen\n",
    "\n",
    "```ocaml\n",
    "    val pairs : ('a, 'b) t -> ('a * 'b) list\n",
    "    val from_pairs : ('a * 'b) list -> ('a, 'b) t\n",
    "    val values : ('a, 'b) t -> 'b list\n",
    "    val map_values : ('b -> 'c) -> ('a, 'b) t -> ('a, 'c) t\n",
    "    val filter_values : ('b -> bool) -> ('a, 'b) t -> ('a, 'b) t\n",
    "```\n",
    "\n",
    "zur Verfügung stellen. Definieren Sie damit anschließend ein `ExtendedListMap` und ein `ExtendedTreeMap` Modul."
   ]
  },
  {
   "cell_type": "code",
   "execution_count": null,
   "metadata": {},
   "outputs": [],
   "source": []
  },
  {
   "cell_type": "code",
   "execution_count": 27,
   "metadata": {},
   "outputs": [
    {
     "data": {
      "text/plain": [
       "val ( % ) : ('a -> 'b) -> ('c -> 'a) -> 'c -> 'b = <fun>\n"
      ]
     },
     "execution_count": 27,
     "metadata": {},
     "output_type": "execute_result"
    },
    {
     "data": {
      "text/plain": [
       "val unopt : 'a option -> 'a = <fun>\n"
      ]
     },
     "execution_count": 27,
     "metadata": {},
     "output_type": "execute_result"
    }
   ],
   "source": [
    "let (%) f g x = f (g x)\n",
    "let unopt = function Some x -> x | None -> failwith \"unopt None\""
   ]
  },
  {
   "cell_type": "code",
   "execution_count": 28,
   "metadata": {},
   "outputs": [
    {
     "data": {
      "text/plain": [
       "module ExtendMap :\n",
       "  functor (M : Map) ->\n",
       "    sig\n",
       "      type ('a, 'b) t = ('a, 'b) M.t\n",
       "      val empty : ('a, 'b) t\n",
       "      val set : 'a -> 'b -> ('a, 'b) t -> ('a, 'b) t\n",
       "      val get : 'a -> ('a, 'b) t -> 'b option\n",
       "      val remove : 'a -> ('a, 'b) t -> ('a, 'b) t\n",
       "      val keys : ('a, 'b) t -> 'a list\n",
       "      val pairs : ('a, 'b) M.t -> ('a * 'b) list\n",
       "      val from_pairs : ('a * 'b) list -> ('a, 'b) M.t\n",
       "      val values : ('a, 'b) M.t -> 'b list\n",
       "      val map_values : ('a -> 'b) -> ('c, 'a) M.t -> ('c, 'b) M.t\n",
       "      val filter_values : ('a -> bool) -> ('b, 'a) M.t -> ('b, 'a) M.t\n",
       "    end\n"
      ]
     },
     "execution_count": 28,
     "metadata": {},
     "output_type": "execute_result"
    }
   ],
   "source": [
    "module ExtendMap (M : Map) =\n",
    "  struct\n",
    "    include M\n",
    "\n",
    "    let pairs m = List.map (fun k -> k, M.get k m |> unopt) (M.keys m)\n",
    "\n",
    "    let from_pairs l = List.fold_left (fun new_m (k,v) -> M.set k v new_m) M.empty l\n",
    "\n",
    "    let values m = List.map snd (pairs m)\n",
    "\n",
    "    let map_values f m = List.fold_left (fun new_m (k,v) -> M.set k (f v) new_m) M.empty (pairs m)\n",
    "\n",
    "    let filter_values f m = pairs m |> List.filter (f % snd) |> from_pairs\n",
    "\n",
    "  end"
   ]
  },
  {
   "cell_type": "code",
   "execution_count": null,
   "metadata": {},
   "outputs": [],
   "source": []
  },
  {
   "cell_type": "code",
   "execution_count": 29,
   "metadata": {},
   "outputs": [
    {
     "data": {
      "text/plain": [
       "module ExtendedListMap :\n",
       "  sig\n",
       "    type ('a, 'b) t = ('a, 'b) ListMap.t\n",
       "    val empty : ('a, 'b) t\n",
       "    val set : 'a -> 'b -> ('a, 'b) t -> ('a, 'b) t\n",
       "    val get : 'a -> ('a, 'b) t -> 'b option\n",
       "    val remove : 'a -> ('a, 'b) t -> ('a, 'b) t\n",
       "    val keys : ('a, 'b) t -> 'a list\n",
       "    val pairs : ('a, 'b) ListMap.t -> ('a * 'b) list\n",
       "    val from_pairs : ('a * 'b) list -> ('a, 'b) ListMap.t\n",
       "    val values : ('a, 'b) ListMap.t -> 'b list\n",
       "    val map_values : ('a -> 'b) -> ('c, 'a) ListMap.t -> ('c, 'b) ListMap.t\n",
       "    val filter_values :\n",
       "      ('a -> bool) -> ('b, 'a) ListMap.t -> ('b, 'a) ListMap.t\n",
       "  end\n"
      ]
     },
     "execution_count": 29,
     "metadata": {},
     "output_type": "execute_result"
    },
    {
     "data": {
      "text/plain": [
       "module ExtendedTreeMap :\n",
       "  sig\n",
       "    type ('a, 'b) t = ('a, 'b) TreeMap.t\n",
       "    val empty : ('a, 'b) t\n",
       "    val set : 'a -> 'b -> ('a, 'b) t -> ('a, 'b) t\n",
       "    val get : 'a -> ('a, 'b) t -> 'b option\n",
       "    val remove : 'a -> ('a, 'b) t -> ('a, 'b) t\n",
       "    val keys : ('a, 'b) t -> 'a list\n",
       "    val pairs : ('a, 'b) TreeMap.t -> ('a * 'b) list\n",
       "    val from_pairs : ('a * 'b) list -> ('a, 'b) TreeMap.t\n",
       "    val values : ('a, 'b) TreeMap.t -> 'b list\n",
       "    val map_values : ('a -> 'b) -> ('c, 'a) TreeMap.t -> ('c, 'b) TreeMap.t\n",
       "    val filter_values :\n",
       "      ('a -> bool) -> ('b, 'a) TreeMap.t -> ('b, 'a) TreeMap.t\n",
       "  end\n"
      ]
     },
     "execution_count": 29,
     "metadata": {},
     "output_type": "execute_result"
    }
   ],
   "source": [
    "module ExtendedListMap = ExtendMap (ListMap)\n",
    "module ExtendedTreeMap = ExtendMap (TreeMap)"
   ]
  },
  {
   "cell_type": "code",
   "execution_count": null,
   "metadata": {},
   "outputs": [],
   "source": []
  },
  {
   "cell_type": "code",
   "execution_count": null,
   "metadata": {},
   "outputs": [],
   "source": []
  },
  {
   "cell_type": "code",
   "execution_count": null,
   "metadata": {},
   "outputs": [],
   "source": []
  }
 ],
 "metadata": {
  "kernelspec": {
   "display_name": "OCaml 4.04.2",
   "language": "OCaml",
   "name": "ocaml-jupyter"
  },
  "language_info": {
   "codemirror_mode": "text/x-ocaml",
   "file_extension": ".ml",
   "mimetype": "text/x-ocaml",
   "name": "OCaml",
   "nbconverter_exporter": null,
   "pygments_lexer": "OCaml",
   "version": "4.04.2"
  }
 },
 "nbformat": 4,
 "nbformat_minor": 2
}
