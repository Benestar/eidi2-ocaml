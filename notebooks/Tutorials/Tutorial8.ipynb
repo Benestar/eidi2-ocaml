{
 "cells": [
  {
   "cell_type": "markdown",
   "metadata": {},
   "source": [
    "# Übungsblatt 8"
   ]
  },
  {
   "cell_type": "markdown",
   "metadata": {},
   "source": [
    "**Lernziele**\n",
    "\n",
    "In den Übungen dieser Wochen lernen Sie:\n",
    "\n",
    "* Funktionen und Assoziative Listen zur Darstellung von Abbildungen (Maps) einzusetzen.\n",
    "* Anonyme Funktionen als Werte und Argumente für andere Funktionen einzusetzen.\n",
    "* Operationen auf Listen mithilfe von fold_left zu implementieren.\n",
    "* Matrizen mit verschiedenen Typ-Konstrukten zu modellieren.\n",
    "* Verschiedene Graph-Algorithmen in funktionalen Sprachen zu implementieren."
   ]
  },
  {
   "cell_type": "markdown",
   "metadata": {},
   "source": [
    "## Aufgabe 8.1 (P) Abbildungen"
   ]
  },
  {
   "cell_type": "markdown",
   "metadata": {},
   "source": [
    "Obwohl Listen den Umgang mit einer sequentiellen (möglicherweise sortierten) Folge von\n",
    "Werten (relativ) einfach machen, benötigen größere Anwendungen oft auch Datenstrukturen,\n",
    "die andere Eigenschaften haben und/oder bestimmte Operationen effizienter durchführen\n",
    "können. Eine Datenstruktur, die besonders häufig zum Einsatz kommt, ist dabei\n",
    "die `Map`. Sie bildet Schlüssel auf Werte ab."
   ]
  },
  {
   "cell_type": "markdown",
   "metadata": {},
   "source": [
    "1\\. In der letzten Woche haben Sie bereits eine Möglichkeit kennengelernt, wie eine\n",
    "solche Abbildung in funktionalen Sprachen realisiert werden kann. Beschreiben Sie\n",
    "diese und gehen Sie dabei besonders darauf ein, wie nach Schlüsseln gesucht, bzw.\n",
    "wie Einträge hinzugefügt und entfernt werden können."
   ]
  },
  {
   "cell_type": "code",
   "execution_count": null,
   "metadata": {},
   "outputs": [],
   "source": []
  },
  {
   "cell_type": "markdown",
   "metadata": {},
   "source": [
    "2\\. Eine Alternative um Schlüssel-Wert-Paare darzustellen sind Listen, die eben entsprechende\n",
    "Paare speichern (`('a * 'b) list`). Diese Art von Listen wird üblicherweise\n",
    "als *Assoziative Liste* bezeichnet. Überlegen Sie sich zunächst, welchen Typen die folgenden\n",
    "Funktionen auf assoziativien Listen haben müssen, dann recherchieren Sie,\n",
    "welche Standardfunktionen das OCaml `List`-Modul für die diese Operationen zur\n",
    "Verfügung stellt:\n",
    "\n",
    "* Prüfen, ob ein Schlüssel in der Liste existiert.\n",
    "* Den Wert zu einem Schlüssel in der Liste finden.\n",
    "* Einen Schlüssel (und dessen Wert) aus der Liste entfernen.\n",
    "* Alle Schlüssel der Liste abfragen.\n",
    "\n",
    "[OCaml List manual](http://caml.inria.fr/pub/docs/manual-ocaml/libref/List.html)"
   ]
  },
  {
   "cell_type": "code",
   "execution_count": null,
   "metadata": {},
   "outputs": [],
   "source": []
  },
  {
   "cell_type": "markdown",
   "metadata": {},
   "source": [
    "Prüfen, ob ein Schlüssel in der Liste existiert."
   ]
  },
  {
   "cell_type": "code",
   "execution_count": null,
   "metadata": {},
   "outputs": [],
   "source": []
  },
  {
   "cell_type": "markdown",
   "metadata": {},
   "source": [
    "Den Wert zu einem Schlüssel in der Liste finden."
   ]
  },
  {
   "cell_type": "code",
   "execution_count": null,
   "metadata": {},
   "outputs": [],
   "source": []
  },
  {
   "cell_type": "markdown",
   "metadata": {},
   "source": [
    "Einen Schlüssel (und dessen Wert) aus der Liste entfernen."
   ]
  },
  {
   "cell_type": "code",
   "execution_count": null,
   "metadata": {},
   "outputs": [],
   "source": []
  },
  {
   "cell_type": "markdown",
   "metadata": {},
   "source": [
    "Alle Schlüssel der Liste abfragen."
   ]
  },
  {
   "cell_type": "code",
   "execution_count": null,
   "metadata": {},
   "outputs": [],
   "source": []
  },
  {
   "cell_type": "markdown",
   "metadata": {},
   "source": [
    "3\\. Vergleichen Sie die beiden Alternativen zur Darstellung von Abbildungen bezüglich\n",
    "Usability und Performance."
   ]
  },
  {
   "cell_type": "code",
   "execution_count": null,
   "metadata": {},
   "outputs": [],
   "source": []
  },
  {
   "cell_type": "code",
   "execution_count": null,
   "metadata": {},
   "outputs": [],
   "source": []
  },
  {
   "cell_type": "code",
   "execution_count": null,
   "metadata": {},
   "outputs": [],
   "source": []
  },
  {
   "cell_type": "code",
   "execution_count": null,
   "metadata": {},
   "outputs": [],
   "source": []
  },
  {
   "cell_type": "code",
   "execution_count": null,
   "metadata": {},
   "outputs": [],
   "source": []
  },
  {
   "cell_type": "code",
   "execution_count": null,
   "metadata": {},
   "outputs": [],
   "source": []
  },
  {
   "cell_type": "code",
   "execution_count": null,
   "metadata": {},
   "outputs": [],
   "source": []
  },
  {
   "cell_type": "markdown",
   "metadata": {},
   "source": [
    "## Aufgabe 8.2 (P) Matrix Reloaded"
   ]
  },
  {
   "cell_type": "markdown",
   "metadata": {},
   "source": [
    "Ein Vektor und eine Matrix seien durch folgende Typen definiert:"
   ]
  },
  {
   "cell_type": "code",
   "execution_count": null,
   "metadata": {},
   "outputs": [],
   "source": [
    "type vector = float list\n",
    "type matrix = float list list"
   ]
  },
  {
   "cell_type": "code",
   "execution_count": null,
   "metadata": {},
   "outputs": [],
   "source": [
    "let vector = ()"
   ]
  },
  {
   "cell_type": "code",
   "execution_count": null,
   "metadata": {},
   "outputs": [],
   "source": [
    "let matrix = ()"
   ]
  },
  {
   "cell_type": "markdown",
   "metadata": {},
   "source": [
    "1. Diskutieren Sie die Vor- und Nachteile dieser Darstellung, sowie mögliche Alternativen.\n",
    "2. Implementieren Sie die folgenden Funktionen mit Hilfe der Listenfunktionen der Standardbibliothek. Sie dürfen keine eigenen rekursiven Funktionen definieren:\n",
    "    * `multiplys : matrix -> float -> matrix`, die eine Matrix mit einem Skalar multipliziert.\n",
    "    * `multiplyv : matrix -> vector -> vector`, die eine Matrix mit einem Vektor multipliziert.\n",
    "    * `transpose : matrix -> matrix`, die eine Matrix transponiert.\n",
    "    * `multiplym : matrix -> matrix -> matrix`, die zwei Matrizen multipliziert."
   ]
  },
  {
   "cell_type": "markdown",
   "metadata": {},
   "source": [
    "**Matrix-Skalar Produkt**\n",
    "\n",
    "$$\n",
    "    \\begin{pmatrix}\n",
    "        a_{11} & \\cdots & a_{1n} \\\\\n",
    "        \\vdots & \\ddots & \\vdots \\\\\n",
    "        a_{m1} & \\cdots & a_{mn} \\\\\n",
    "    \\end{pmatrix}\n",
    "    \\cdot s =\n",
    "    \\begin{pmatrix}\n",
    "        a_{11} \\cdot s & \\cdots & a_{1n} \\cdot s \\\\\n",
    "        \\vdots & \\ddots & \\vdots \\\\\n",
    "        a_{m1} \\cdot s & \\cdots & a_{mn} \\cdot s \\\\\n",
    "    \\end{pmatrix}\n",
    "$$"
   ]
  },
  {
   "cell_type": "code",
   "execution_count": null,
   "metadata": {},
   "outputs": [],
   "source": [
    "let multiplys m s = ()"
   ]
  },
  {
   "cell_type": "markdown",
   "metadata": {},
   "source": [
    "**Matrix-Vektor Produkt**\n",
    "\n",
    "$$\n",
    "    \\begin{pmatrix}\n",
    "        a_{11} & \\cdots & a_{1n} \\\\\n",
    "        \\vdots & \\ddots & \\vdots \\\\\n",
    "        a_{m1} & \\cdots & a_{mn} \\\\\n",
    "    \\end{pmatrix}\n",
    "    \\cdot\n",
    "    \\begin{pmatrix}\n",
    "        v_1 \\\\ \\vdots \\\\ v_n\n",
    "    \\end{pmatrix}\n",
    "    =\n",
    "    \\begin{pmatrix}\n",
    "        a_{11} \\cdot v_1 + \\cdots + a_{1n} \\cdot v_n \\\\\n",
    "        \\vdots \\\\\n",
    "        a_{m1} \\cdot v_1 + \\cdots + a_{mn} \\cdot v_n \\\\\n",
    "    \\end{pmatrix}\n",
    "$$"
   ]
  },
  {
   "cell_type": "code",
   "execution_count": null,
   "metadata": {},
   "outputs": [],
   "source": [
    "let multiplyv m v = ()"
   ]
  },
  {
   "cell_type": "markdown",
   "metadata": {},
   "source": [
    "**Transposition**\n",
    "\n",
    "$$\n",
    "    \\begin{pmatrix}\n",
    "        a_{11} & \\cdots & a_{1n} \\\\\n",
    "        \\vdots & \\ddots & \\vdots \\\\\n",
    "        a_{m1} & \\cdots & a_{mn} \\\\\n",
    "    \\end{pmatrix}^T =\n",
    "    \\begin{pmatrix}\n",
    "        a_{11} & \\cdots & a_{m1} \\\\\n",
    "        \\vdots & \\ddots & \\vdots \\\\\n",
    "        a_{1n} & \\cdots & a_{mn} \\\\\n",
    "    \\end{pmatrix}\n",
    "$$"
   ]
  },
  {
   "cell_type": "code",
   "execution_count": null,
   "metadata": {},
   "outputs": [],
   "source": [
    "let transpose m = ()"
   ]
  },
  {
   "cell_type": "markdown",
   "metadata": {},
   "source": [
    "**Matrix-Matrix Produkt**\n",
    "\n",
    "$$\n",
    "    \\begin{pmatrix}\n",
    "        a_{11} & \\cdots & a_{1m} \\\\\n",
    "        \\vdots & \\ddots & \\vdots \\\\\n",
    "        a_{l1} & \\cdots & a_{lm} \\\\\n",
    "    \\end{pmatrix}\n",
    "    \\cdot\n",
    "    \\begin{pmatrix}\n",
    "        b_{11} & \\cdots & b_{1n} \\\\\n",
    "        \\vdots & \\ddots & \\vdots \\\\\n",
    "        b_{m1} & \\cdots & b_{mn} \\\\\n",
    "    \\end{pmatrix}\n",
    "    =\n",
    "    \\begin{pmatrix}\n",
    "        a_{11} \\cdot b_{11} + \\cdots + a_{1m} \\cdot b_{m1} & \\cdots &\n",
    "        a_{11} \\cdot b_{1n} + \\cdots + a_{1m} \\cdot b_{mn}\n",
    "        \\\\\n",
    "        \\vdots & \\ddots & \\vdots \\\\\n",
    "        a_{l1} \\cdot b_{11} + \\cdots + a_{lm} \\cdot b_{m1} & \\cdots &\n",
    "        a_{l1} \\cdot b_{1n} + \\cdots + a_{lm} \\cdot b_{mn}\n",
    "        \\\\\n",
    "    \\end{pmatrix}\n",
    "$$"
   ]
  },
  {
   "cell_type": "code",
   "execution_count": null,
   "metadata": {},
   "outputs": [],
   "source": [
    "let multiplym m1 m2 = ()"
   ]
  },
  {
   "cell_type": "markdown",
   "metadata": {},
   "source": [
    "Es gilt $ (AB)^T = B^TA^T $ und damit können wir noch vereinfachen."
   ]
  },
  {
   "cell_type": "code",
   "execution_count": null,
   "metadata": {},
   "outputs": [],
   "source": []
  },
  {
   "cell_type": "code",
   "execution_count": null,
   "metadata": {},
   "outputs": [],
   "source": [
    "let m1 = [[1.;2.];\n",
    "          [3.;4.];\n",
    "          [5.;6.]]\n",
    "\n",
    "let m2 = [[1.;2.;3.];\n",
    "          [4.;5.;6.]]"
   ]
  },
  {
   "cell_type": "code",
   "execution_count": null,
   "metadata": {},
   "outputs": [],
   "source": [
    "multiplym m1 m2"
   ]
  },
  {
   "cell_type": "code",
   "execution_count": null,
   "metadata": {},
   "outputs": [],
   "source": []
  },
  {
   "cell_type": "code",
   "execution_count": null,
   "metadata": {},
   "outputs": [],
   "source": []
  },
  {
   "cell_type": "code",
   "execution_count": null,
   "metadata": {},
   "outputs": [],
   "source": []
  },
  {
   "cell_type": "code",
   "execution_count": null,
   "metadata": {},
   "outputs": [],
   "source": []
  },
  {
   "cell_type": "code",
   "execution_count": null,
   "metadata": {},
   "outputs": [],
   "source": []
  },
  {
   "cell_type": "code",
   "execution_count": null,
   "metadata": {},
   "outputs": [],
   "source": []
  },
  {
   "cell_type": "markdown",
   "metadata": {},
   "source": [
    "## Aufgabe 8.3 (P) Unendlich faule Listen"
   ]
  },
  {
   "cell_type": "markdown",
   "metadata": {},
   "source": [
    "Neben den Standard OCaml Listen, haben Sie bisher das Konzept nicht-leerer Listen\n",
    "kennengelernt. Im Folgenden werden Sie eine weitere Limitierung dieser Listen aufheben:\n",
    "die Beschränkung auf endliche Längen."
   ]
  },
  {
   "cell_type": "markdown",
   "metadata": {},
   "source": [
    "1\\. Diskutieren Sie, welche Grundvoraussetzungen gegeben sein müssen, damit eine unendliche Liste erzeugt werden kann."
   ]
  },
  {
   "cell_type": "code",
   "execution_count": null,
   "metadata": {},
   "outputs": [],
   "source": []
  },
  {
   "cell_type": "markdown",
   "metadata": {},
   "source": [
    "2\\. Definieren Sie einen Typen `'a llist`, der unendliche Listen darstellt."
   ]
  },
  {
   "cell_type": "code",
   "execution_count": null,
   "metadata": {},
   "outputs": [],
   "source": []
  },
  {
   "cell_type": "markdown",
   "metadata": {},
   "source": [
    "3\\. Implementieren Sie die folgenden Funktionen, die entsprechende unendliche Listen erzeugen:"
   ]
  },
  {
   "cell_type": "markdown",
   "metadata": {},
   "source": [
    "(a) `lconst : int -> int llist` erzeugt eine konstante Folge."
   ]
  },
  {
   "cell_type": "code",
   "execution_count": null,
   "metadata": {},
   "outputs": [],
   "source": []
  },
  {
   "cell_type": "markdown",
   "metadata": {},
   "source": [
    "(b) `lseq : int -> int llist` erzeugt eine aufsteigende Folge, beginnend mit\n",
    "dem übergebenen Element.\n"
   ]
  },
  {
   "cell_type": "code",
   "execution_count": null,
   "metadata": {},
   "outputs": [],
   "source": []
  },
  {
   "cell_type": "markdown",
   "metadata": {},
   "source": [
    "(c) `lpowers2 : unit -> int llist` erzeugt eine Folge von 2er-Potenzen beginnend\n",
    "mit 1.\n"
   ]
  },
  {
   "cell_type": "code",
   "execution_count": null,
   "metadata": {},
   "outputs": [],
   "source": []
  },
  {
   "cell_type": "markdown",
   "metadata": {},
   "source": [
    "(d) `lfib : unit -> int llist` erzeugt die Fibonacci-Folge (beginnend mit 0\n",
    "und 1)."
   ]
  },
  {
   "cell_type": "code",
   "execution_count": null,
   "metadata": {},
   "outputs": [],
   "source": []
  },
  {
   "cell_type": "markdown",
   "metadata": {},
   "source": [
    "4\\. Entscheiden Sie für die folgenden Funktionen, ob diese sinnvoll für unendliche Listen\n",
    "implementiert werden können. Implementieren Sie die Funktion, wenn dies der Fall\n",
    "ist:\n"
   ]
  },
  {
   "cell_type": "markdown",
   "metadata": {},
   "source": [
    "(a) `lhd : 'a llist -> 'a` liefert den Kopf der Liste.\n"
   ]
  },
  {
   "cell_type": "code",
   "execution_count": null,
   "metadata": {},
   "outputs": [],
   "source": []
  },
  {
   "cell_type": "markdown",
   "metadata": {},
   "source": [
    "(b) `ltl : 'a llist -> 'a llist` liefert den Schwanz der Liste.\n"
   ]
  },
  {
   "cell_type": "code",
   "execution_count": null,
   "metadata": {},
   "outputs": [],
   "source": []
  },
  {
   "cell_type": "markdown",
   "metadata": {},
   "source": [
    "(c) `ltake : int -> 'a llist -> 'a list` gibt die ersten n (1. Argument) Elemente\n",
    "der Liste zurück.\n"
   ]
  },
  {
   "cell_type": "code",
   "execution_count": null,
   "metadata": {},
   "outputs": [],
   "source": []
  },
  {
   "cell_type": "markdown",
   "metadata": {},
   "source": [
    "(d) `ldrop : int -> 'a llist -> 'a llist` entfernt die ersten n (1. Argument)\n",
    "Elemente der Liste.\n"
   ]
  },
  {
   "cell_type": "code",
   "execution_count": null,
   "metadata": {},
   "outputs": [],
   "source": []
  },
  {
   "cell_type": "markdown",
   "metadata": {},
   "source": [
    "(e) `lappend : 'a llist -> 'a llist -> 'a llist` hängt zwei Listen aneinander.\n"
   ]
  },
  {
   "cell_type": "code",
   "execution_count": null,
   "metadata": {},
   "outputs": [],
   "source": []
  },
  {
   "cell_type": "markdown",
   "metadata": {},
   "source": [
    "(f) `lreverse : 'a llist -> 'a llist` dreht die Liste um.\n"
   ]
  },
  {
   "cell_type": "code",
   "execution_count": null,
   "metadata": {},
   "outputs": [],
   "source": []
  },
  {
   "cell_type": "markdown",
   "metadata": {},
   "source": [
    "(g) `lfilter : ('a -> bool) -> 'a llist -> 'a llist` filtert die Elemente der\n",
    "Liste mit einem Prädikat (1. Argument).\n"
   ]
  },
  {
   "cell_type": "code",
   "execution_count": null,
   "metadata": {},
   "outputs": [],
   "source": []
  },
  {
   "cell_type": "markdown",
   "metadata": {},
   "source": [
    "(h) `lmap : ('a -> 'b) -> 'a llist -> 'b llist` transformiert alle Elemente\n",
    "der Liste mit der gegebenen Funktion (1. Argument)."
   ]
  },
  {
   "cell_type": "code",
   "execution_count": null,
   "metadata": {},
   "outputs": [],
   "source": []
  },
  {
   "cell_type": "code",
   "execution_count": null,
   "metadata": {},
   "outputs": [],
   "source": []
  },
  {
   "cell_type": "code",
   "execution_count": null,
   "metadata": {},
   "outputs": [],
   "source": []
  },
  {
   "cell_type": "code",
   "execution_count": null,
   "metadata": {},
   "outputs": [],
   "source": []
  },
  {
   "cell_type": "code",
   "execution_count": null,
   "metadata": {},
   "outputs": [],
   "source": []
  },
  {
   "cell_type": "code",
   "execution_count": null,
   "metadata": {},
   "outputs": [],
   "source": []
  },
  {
   "cell_type": "code",
   "execution_count": null,
   "metadata": {},
   "outputs": [],
   "source": []
  },
  {
   "cell_type": "code",
   "execution_count": null,
   "metadata": {},
   "outputs": [],
   "source": []
  },
  {
   "cell_type": "code",
   "execution_count": null,
   "metadata": {},
   "outputs": [],
   "source": []
  },
  {
   "cell_type": "code",
   "execution_count": null,
   "metadata": {},
   "outputs": [],
   "source": []
  }
 ],
 "metadata": {
  "kernelspec": {
   "display_name": "OCaml 4.04.2",
   "language": "OCaml",
   "name": "ocaml-jupyter"
  },
  "language_info": {
   "codemirror_mode": "text/x-ocaml",
   "file_extension": ".ml",
   "mimetype": "text/x-ocaml",
   "name": "OCaml",
   "nbconverter_exporter": null,
   "pygments_lexer": "OCaml",
   "version": "4.04.2"
  }
 },
 "nbformat": 4,
 "nbformat_minor": 2
}
